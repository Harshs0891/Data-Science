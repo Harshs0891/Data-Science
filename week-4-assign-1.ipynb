{
 "cells": [
  {
   "cell_type": "markdown",
   "id": "fbfd7b21-ce19-43eb-8238-d0989788eea5",
   "metadata": {},
   "source": [
    "QUESTION - 1"
   ]
  },
  {
   "cell_type": "code",
   "execution_count": 2,
   "id": "d008ae94-740c-4d0f-abb7-fe993c0d9d67",
   "metadata": {},
   "outputs": [],
   "source": [
    "class vehicle :\n",
    "    def __init__(self,name_of_vehicle,max_speed,average_of_speed):\n",
    "        self.name_of_vehicle=name_of_vehicle\n",
    "        self.max_speed=max_speed\n",
    "        self.average_of_speed=average_of_speed"
   ]
  },
  {
   "cell_type": "code",
   "execution_count": 4,
   "id": "c0cb265f-cce1-4615-ac34-6a5676c3fe2f",
   "metadata": {},
   "outputs": [
    {
     "data": {
      "text/plain": [
       "'toyota'"
      ]
     },
     "execution_count": 4,
     "metadata": {},
     "output_type": "execute_result"
    }
   ],
   "source": [
    "obj_vehicle=vehicle(\"toyota\",240,80)\n",
    "obj_vehicle.name_of_vehicle"
   ]
  },
  {
   "cell_type": "code",
   "execution_count": 5,
   "id": "ea0b6a9c-5803-4dfd-b291-79e62d7ab176",
   "metadata": {},
   "outputs": [
    {
     "data": {
      "text/plain": [
       "240"
      ]
     },
     "execution_count": 5,
     "metadata": {},
     "output_type": "execute_result"
    }
   ],
   "source": [
    "obj_vehicle.max_speed"
   ]
  },
  {
   "cell_type": "code",
   "execution_count": 6,
   "id": "48810a84-59a4-4198-9ad2-c578865d9030",
   "metadata": {},
   "outputs": [
    {
     "data": {
      "text/plain": [
       "80"
      ]
     },
     "execution_count": 6,
     "metadata": {},
     "output_type": "execute_result"
    }
   ],
   "source": [
    "obj_vehicle.average_of_speed"
   ]
  },
  {
   "cell_type": "markdown",
   "id": "bc9cb5bd-d2be-4df1-a6df-0be1b23cb5d8",
   "metadata": {},
   "source": [
    "QUESTION - 2"
   ]
  },
  {
   "cell_type": "code",
   "execution_count": 25,
   "id": "be382ff4-09d8-4d90-916a-cdb89668f1b7",
   "metadata": {},
   "outputs": [],
   "source": [
    "class child_vehicle(vehicle):\n",
    "    def seating_capacity(self,capacity):\n",
    "        return self.name_of_vehicle,capacity"
   ]
  },
  {
   "cell_type": "code",
   "execution_count": 26,
   "id": "e8a6a384-435e-4d64-ab48-ce58f57ae170",
   "metadata": {},
   "outputs": [],
   "source": [
    "obj = child_vehicle(\"toyota\",240,80)"
   ]
  },
  {
   "cell_type": "code",
   "execution_count": 27,
   "id": "1fec81d4-aac6-4777-849d-0e6b664d2d00",
   "metadata": {},
   "outputs": [
    {
     "data": {
      "text/plain": [
       "('toyota', 2)"
      ]
     },
     "execution_count": 27,
     "metadata": {},
     "output_type": "execute_result"
    }
   ],
   "source": [
    "obj.seating_capacity(2)"
   ]
  },
  {
   "cell_type": "markdown",
   "id": "29fc7a70-9f42-4f0b-aef4-f7c6229a4c89",
   "metadata": {},
   "source": [
    "QUESTION - 3"
   ]
  },
  {
   "cell_type": "markdown",
   "id": "fa1733cc-853e-4a8f-9b11-d0717fa9db77",
   "metadata": {},
   "source": [
    "when a class inherits the properties of more than one class then it is called as multiple inheritence"
   ]
  },
  {
   "cell_type": "code",
   "execution_count": 33,
   "id": "5bf444ab-b690-4192-9094-6f0345fb3578",
   "metadata": {},
   "outputs": [],
   "source": [
    "class a:\n",
    "    def t1(self):\n",
    "        return \"this is class 1\""
   ]
  },
  {
   "cell_type": "code",
   "execution_count": 34,
   "id": "46a1e4a6-5f07-4dba-8480-ebe496cac6d4",
   "metadata": {},
   "outputs": [],
   "source": [
    "class b:\n",
    "    def t2(self):\n",
    "        return \"this is class 2\""
   ]
  },
  {
   "cell_type": "code",
   "execution_count": 35,
   "id": "c14dd494-668d-4aa3-b122-b5eab8ec9335",
   "metadata": {},
   "outputs": [],
   "source": [
    "class inh(a,b):\n",
    "    pass"
   ]
  },
  {
   "cell_type": "code",
   "execution_count": 36,
   "id": "41a49d3b-f436-48f7-a445-7be6e018a645",
   "metadata": {},
   "outputs": [],
   "source": [
    "obj_test = inh()"
   ]
  },
  {
   "cell_type": "code",
   "execution_count": 37,
   "id": "98482d52-431f-4741-8f40-83499d1a21db",
   "metadata": {},
   "outputs": [
    {
     "data": {
      "text/plain": [
       "'this is class 1'"
      ]
     },
     "execution_count": 37,
     "metadata": {},
     "output_type": "execute_result"
    }
   ],
   "source": [
    "obj_test.t1()"
   ]
  },
  {
   "cell_type": "code",
   "execution_count": 38,
   "id": "00a43bb6-87e0-47c3-a7b2-769bdd622aeb",
   "metadata": {},
   "outputs": [
    {
     "data": {
      "text/plain": [
       "'this is class 2'"
      ]
     },
     "execution_count": 38,
     "metadata": {},
     "output_type": "execute_result"
    }
   ],
   "source": [
    "obj_test.t2()"
   ]
  },
  {
   "cell_type": "markdown",
   "id": "13aed248-cc44-4367-83ab-0eabeae2e68e",
   "metadata": {},
   "source": [
    "QUESTION - 4"
   ]
  },
  {
   "cell_type": "markdown",
   "id": "38bcdfd7-1dac-4252-b3fa-592648f7cdac",
   "metadata": {},
   "source": [
    "getters in python is used to get or return the value of an instance variable whereas setters in python is used to set the value of the instance variable"
   ]
  },
  {
   "cell_type": "code",
   "execution_count": 39,
   "id": "46c1a92a-b316-453c-aaeb-c1d9130d65f5",
   "metadata": {},
   "outputs": [],
   "source": [
    "class gs:\n",
    "    def set_val(self,num):\n",
    "        self.num=num\n",
    "        \n",
    "    def get_val(self):\n",
    "        return self.num"
   ]
  },
  {
   "cell_type": "code",
   "execution_count": 40,
   "id": "96c8180d-015c-4d98-b300-f033d08a7d1d",
   "metadata": {},
   "outputs": [],
   "source": [
    "obj_gs = gs()"
   ]
  },
  {
   "cell_type": "code",
   "execution_count": 43,
   "id": "5ee6d632-5a38-4706-8c66-e0b7e7603e6f",
   "metadata": {},
   "outputs": [],
   "source": [
    "obj_gs.set_val(2)"
   ]
  },
  {
   "cell_type": "code",
   "execution_count": 44,
   "id": "73f6770f-4ce6-489c-a0cc-65529a5341ea",
   "metadata": {},
   "outputs": [
    {
     "data": {
      "text/plain": [
       "2"
      ]
     },
     "execution_count": 44,
     "metadata": {},
     "output_type": "execute_result"
    }
   ],
   "source": [
    "obj_gs.get_val()"
   ]
  },
  {
   "cell_type": "markdown",
   "id": "723848b3-adf6-4d5b-bbcd-3b9be1fbf570",
   "metadata": {},
   "source": [
    "QUESTION - 5"
   ]
  },
  {
   "cell_type": "markdown",
   "id": "9e42aae6-d4af-4585-b03c-e15d1a0c4632",
   "metadata": {},
   "source": [
    "the process of modifying the body of method in different classes is called method overriding"
   ]
  },
  {
   "cell_type": "code",
   "execution_count": 45,
   "id": "9e8f720a-696d-41ad-af42-826fe6e0c700",
   "metadata": {},
   "outputs": [],
   "source": [
    "class first:\n",
    "    def met(self):\n",
    "        return \"this is method 1\""
   ]
  },
  {
   "cell_type": "code",
   "execution_count": 46,
   "id": "15207de3-0b46-49c2-a402-2e0b958287db",
   "metadata": {},
   "outputs": [],
   "source": [
    "class second:\n",
    "    def met(self):\n",
    "        return \"this is modified method 2\""
   ]
  },
  {
   "cell_type": "code",
   "execution_count": 47,
   "id": "277be5f6-4ded-4d69-bfc9-1f6d7d696aee",
   "metadata": {},
   "outputs": [],
   "source": [
    "obj1 = first()\n",
    "obj2=second()"
   ]
  },
  {
   "cell_type": "code",
   "execution_count": 49,
   "id": "7e9dabaa-3a4c-45b6-a457-8d2f4c2e8b08",
   "metadata": {},
   "outputs": [
    {
     "data": {
      "text/plain": [
       "'this is method 1'"
      ]
     },
     "execution_count": 49,
     "metadata": {},
     "output_type": "execute_result"
    }
   ],
   "source": [
    "obj1.met()"
   ]
  },
  {
   "cell_type": "code",
   "execution_count": 50,
   "id": "232ce6c5-3cb2-4bb1-b9b1-63fb8143762f",
   "metadata": {},
   "outputs": [
    {
     "data": {
      "text/plain": [
       "'this is modified method 2'"
      ]
     },
     "execution_count": 50,
     "metadata": {},
     "output_type": "execute_result"
    }
   ],
   "source": [
    "obj2.met()"
   ]
  },
  {
   "cell_type": "code",
   "execution_count": null,
   "id": "f8b0e544-571e-4561-9634-2aa8f5ad91a3",
   "metadata": {},
   "outputs": [],
   "source": []
  }
 ],
 "metadata": {
  "kernelspec": {
   "display_name": "Python 3 (ipykernel)",
   "language": "python",
   "name": "python3"
  },
  "language_info": {
   "codemirror_mode": {
    "name": "ipython",
    "version": 3
   },
   "file_extension": ".py",
   "mimetype": "text/x-python",
   "name": "python",
   "nbconvert_exporter": "python",
   "pygments_lexer": "ipython3",
   "version": "3.10.8"
  }
 },
 "nbformat": 4,
 "nbformat_minor": 5
}
