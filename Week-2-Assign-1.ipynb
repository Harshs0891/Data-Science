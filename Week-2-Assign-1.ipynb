{
 "cells": [
  {
   "cell_type": "markdown",
   "id": "fa7c8831-bdf1-4361-86af-3542ebacc7ca",
   "metadata": {},
   "source": [
    "QUESTION-1"
   ]
  },
  {
   "cell_type": "markdown",
   "id": "1462a395-2be6-4544-80d1-83cdd1efa1a7",
   "metadata": {},
   "source": [
    "we can comment in python using # for single line comment and can comment multiline code using putting the multiline code inside 3 inverted commas for example \"\"\" comment \"\"\""
   ]
  },
  {
   "cell_type": "markdown",
   "id": "5218252f-7074-4398-afd1-ac31a7382b32",
   "metadata": {},
   "source": [
    "QUESTION - 2"
   ]
  },
  {
   "cell_type": "markdown",
   "id": "0ee26a8f-fdca-437c-a280-3333078486e1",
   "metadata": {},
   "source": [
    "Variable in python is a symbolic name that is a reference or pointer to an object we declare and assign values of variable in following way :- "
   ]
  },
  {
   "cell_type": "code",
   "execution_count": 1,
   "id": "2fa197ff-255d-4a3b-a3e7-988a015e17fd",
   "metadata": {},
   "outputs": [],
   "source": [
    "x = 23"
   ]
  },
  {
   "cell_type": "markdown",
   "id": "a8341ab7-4654-4393-be91-e0d41011384b",
   "metadata": {},
   "source": [
    "QUESTION - 3"
   ]
  },
  {
   "cell_type": "markdown",
   "id": "0727f7ce-9ed7-43c8-a2d6-ede06536141e",
   "metadata": {},
   "source": [
    "we can convert one data type into another using type casting for example to conver an integer to float we can use a = float(b)"
   ]
  },
  {
   "cell_type": "code",
   "execution_count": 6,
   "id": "1fbd4a63-a0ac-4431-b612-c0f91192617a",
   "metadata": {},
   "outputs": [
    {
     "data": {
      "text/plain": [
       "int"
      ]
     },
     "execution_count": 6,
     "metadata": {},
     "output_type": "execute_result"
    }
   ],
   "source": [
    "b=4\n",
    "type(b)"
   ]
  },
  {
   "cell_type": "code",
   "execution_count": 4,
   "id": "4e606648-cfa3-40d5-8d1f-b8a841ecc868",
   "metadata": {},
   "outputs": [],
   "source": [
    "a=float(b)"
   ]
  },
  {
   "cell_type": "code",
   "execution_count": 5,
   "id": "c8da123e-e1bb-4445-a39a-73d2ccb67fe9",
   "metadata": {},
   "outputs": [
    {
     "data": {
      "text/plain": [
       "float"
      ]
     },
     "execution_count": 5,
     "metadata": {},
     "output_type": "execute_result"
    }
   ],
   "source": [
    "type(a)"
   ]
  },
  {
   "cell_type": "markdown",
   "id": "f043be63-99a0-42b3-bbf5-af2ff37869f8",
   "metadata": {},
   "source": [
    "QUESTION - 4"
   ]
  },
  {
   "cell_type": "markdown",
   "id": "3286e350-3f3b-4450-97fa-ed7ed2010ba5",
   "metadata": {},
   "source": [
    "Open command-line and need to type the word python followed by the path to your script and press enter to execute "
   ]
  },
  {
   "cell_type": "markdown",
   "id": "26cddc9b-bf8e-4f5a-be6a-27c5f3d5a389",
   "metadata": {},
   "source": [
    "QUESTION - 5"
   ]
  },
  {
   "cell_type": "code",
   "execution_count": 8,
   "id": "e0c2587f-3fa4-4328-8822-4bd66d0716a5",
   "metadata": {},
   "outputs": [],
   "source": [
    "my_list=[1,2,3,4,5]"
   ]
  },
  {
   "cell_type": "code",
   "execution_count": 9,
   "id": "e0e2ecb6-7f19-4465-ae0d-16ef84b4b086",
   "metadata": {},
   "outputs": [
    {
     "data": {
      "text/plain": [
       "[2, 3]"
      ]
     },
     "execution_count": 9,
     "metadata": {},
     "output_type": "execute_result"
    }
   ],
   "source": [
    "my_list[1:3]"
   ]
  },
  {
   "cell_type": "markdown",
   "id": "babfd6e8-2cd0-4976-8c4f-8eb143ee36d5",
   "metadata": {},
   "source": [
    "QUESTION - 6"
   ]
  },
  {
   "cell_type": "markdown",
   "id": "0d98f8e9-d1d4-4a4e-ad44-eba0b4754e9d",
   "metadata": {},
   "source": [
    "the numbers which are represented in the form of a+bi where a and b are real numbers and i is imaginary number following is the syntax to create an imagiinary number in python"
   ]
  },
  {
   "cell_type": "code",
   "execution_count": 11,
   "id": "7d636b3f-8b0e-42ed-8257-e968eb52cfee",
   "metadata": {},
   "outputs": [],
   "source": [
    "img = 5+7j"
   ]
  },
  {
   "cell_type": "markdown",
   "id": "761df9f6-bd57-44e0-8917-551603da8390",
   "metadata": {},
   "source": [
    "QUESTION - 7"
   ]
  },
  {
   "cell_type": "code",
   "execution_count": 14,
   "id": "08483961-41f0-4b58-b093-87db815d00a4",
   "metadata": {},
   "outputs": [],
   "source": [
    "age = int(25)"
   ]
  },
  {
   "cell_type": "markdown",
   "id": "2b680f58-2110-4962-837b-a90be845880e",
   "metadata": {},
   "source": [
    "QUESTION - 8"
   ]
  },
  {
   "cell_type": "code",
   "execution_count": 16,
   "id": "ce782804-aa24-4286-bc18-040d99a80151",
   "metadata": {},
   "outputs": [],
   "source": [
    "price = 9.99"
   ]
  },
  {
   "cell_type": "code",
   "execution_count": 17,
   "id": "b4175935-c998-42fb-9767-abfaf98f09b3",
   "metadata": {},
   "outputs": [
    {
     "data": {
      "text/plain": [
       "float"
      ]
     },
     "execution_count": 17,
     "metadata": {},
     "output_type": "execute_result"
    }
   ],
   "source": [
    "type(price)"
   ]
  },
  {
   "cell_type": "markdown",
   "id": "5236641e-f3de-4e9d-aaaf-54f3be25e672",
   "metadata": {},
   "source": [
    "QUESTION - 9"
   ]
  },
  {
   "cell_type": "code",
   "execution_count": 18,
   "id": "a74f5f2b-b56f-40d2-990b-a7cd0f39ff3a",
   "metadata": {},
   "outputs": [],
   "source": [
    "name = \"Harsh Kumar Singh\""
   ]
  },
  {
   "cell_type": "markdown",
   "id": "2953d031-1d37-4688-a83e-b46cdd23a4aa",
   "metadata": {},
   "source": [
    "i can print the value of the varible by using the variable name inside the print()"
   ]
  },
  {
   "cell_type": "code",
   "execution_count": 20,
   "id": "16ac4866-0479-4790-b529-2bc28cb016fc",
   "metadata": {},
   "outputs": [
    {
     "name": "stdout",
     "output_type": "stream",
     "text": [
      "Harsh Kumar Singh\n"
     ]
    }
   ],
   "source": [
    "print(name)"
   ]
  },
  {
   "cell_type": "markdown",
   "id": "4bd68107-d27e-4b91-ac79-5726ad6c477e",
   "metadata": {},
   "source": [
    "QUESTION - 10"
   ]
  },
  {
   "cell_type": "code",
   "execution_count": 21,
   "id": "e1fba04c-1bd2-4d80-8411-b6aabb681ddf",
   "metadata": {},
   "outputs": [],
   "source": [
    "str = \"Hello, World!\""
   ]
  },
  {
   "cell_type": "code",
   "execution_count": 26,
   "id": "c31eeb95-46b6-4d46-a745-f59e4b993efd",
   "metadata": {},
   "outputs": [
    {
     "data": {
      "text/plain": [
       "'World'"
      ]
     },
     "execution_count": 26,
     "metadata": {},
     "output_type": "execute_result"
    }
   ],
   "source": [
    "str[7:-1]"
   ]
  },
  {
   "cell_type": "markdown",
   "id": "df008022-89ad-46a5-8b49-a9edb04e13b2",
   "metadata": {},
   "source": [
    "QUESTION - 11"
   ]
  },
  {
   "cell_type": "code",
   "execution_count": 27,
   "id": "4d55123b-eb64-4715-97b8-5fc37f0b3af9",
   "metadata": {},
   "outputs": [],
   "source": [
    "is_student = True"
   ]
  },
  {
   "cell_type": "code",
   "execution_count": null,
   "id": "0ac2e783-1db8-421e-8f35-4252577c1e8c",
   "metadata": {},
   "outputs": [],
   "source": []
  }
 ],
 "metadata": {
  "kernelspec": {
   "display_name": "Python 3 (ipykernel)",
   "language": "python",
   "name": "python3"
  },
  "language_info": {
   "codemirror_mode": {
    "name": "ipython",
    "version": 3
   },
   "file_extension": ".py",
   "mimetype": "text/x-python",
   "name": "python",
   "nbconvert_exporter": "python",
   "pygments_lexer": "ipython3",
   "version": "3.10.8"
  }
 },
 "nbformat": 4,
 "nbformat_minor": 5
}
