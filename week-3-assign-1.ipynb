{
 "cells": [
  {
   "cell_type": "markdown",
   "id": "dff5dad7-9bcd-4a38-90aa-73d888765098",
   "metadata": {},
   "source": [
    "QUESTION - 1"
   ]
  },
  {
   "cell_type": "markdown",
   "id": "b20d550d-12cc-4e46-8c25-b0c1c9afc8c0",
   "metadata": {},
   "source": [
    "'def' keyword is used to create a function"
   ]
  },
  {
   "cell_type": "code",
   "execution_count": 1,
   "id": "1b0c4627-5771-4264-8920-7cfc1e1246ac",
   "metadata": {},
   "outputs": [],
   "source": [
    "def odd():\n",
    "    for i in range(25):\n",
    "        if i%2 != 0:\n",
    "            yield i"
   ]
  },
  {
   "cell_type": "code",
   "execution_count": 3,
   "id": "ccf30c19-ca39-4a7d-bcf2-1a0db6e9a456",
   "metadata": {},
   "outputs": [
    {
     "data": {
      "text/plain": [
       "[1, 3, 5, 7, 9, 11, 13, 15, 17, 19, 21, 23]"
      ]
     },
     "execution_count": 3,
     "metadata": {},
     "output_type": "execute_result"
    }
   ],
   "source": [
    "list(odd())"
   ]
  },
  {
   "cell_type": "markdown",
   "id": "342c2ce1-099a-459c-881d-c277f5ff3ea2",
   "metadata": {},
   "source": [
    "QUESTION - 2"
   ]
  },
  {
   "cell_type": "markdown",
   "id": "1a3bf54b-62cd-4e0a-92ab-d165e7fd004c",
   "metadata": {},
   "source": [
    "*args is used to take variable numbers of non-keyword arguments while **kwargs is used to take any number of keyword arguments like dictionary(key-value pair) for example:-"
   ]
  },
  {
   "cell_type": "code",
   "execution_count": 5,
   "id": "4ce6cb5a-9604-4bb6-ad56-951d9c7a88c0",
   "metadata": {},
   "outputs": [],
   "source": [
    "def arg(*args):\n",
    "    return args"
   ]
  },
  {
   "cell_type": "code",
   "execution_count": 7,
   "id": "54238eca-6860-4c49-b229-bd16e0796919",
   "metadata": {},
   "outputs": [
    {
     "data": {
      "text/plain": [
       "(1, 2, [1, 2, 3])"
      ]
     },
     "execution_count": 7,
     "metadata": {},
     "output_type": "execute_result"
    }
   ],
   "source": [
    "arg(1,2,[1,2,3])"
   ]
  },
  {
   "cell_type": "code",
   "execution_count": 8,
   "id": "2f1508a6-29bc-4802-9991-876910d57d1c",
   "metadata": {},
   "outputs": [],
   "source": [
    "def kwr(**kwargs):\n",
    "    return kwargs"
   ]
  },
  {
   "cell_type": "code",
   "execution_count": 9,
   "id": "f4d8dfdd-4c31-4aae-925b-aa6f056f39cd",
   "metadata": {},
   "outputs": [
    {
     "data": {
      "text/plain": [
       "{'a': [1, 2, 3], 'b': ['abs', 'ffe', 'lkr']}"
      ]
     },
     "execution_count": 9,
     "metadata": {},
     "output_type": "execute_result"
    }
   ],
   "source": [
    "kwr(a=[1,2,3],b=[\"abs\",\"ffe\",\"lkr\"])"
   ]
  },
  {
   "cell_type": "markdown",
   "id": "cdba1dab-7056-4da4-ba45-de865ccd6c7c",
   "metadata": {},
   "source": [
    "QUESTION - 3"
   ]
  },
  {
   "cell_type": "markdown",
   "id": "0084ad52-adf1-41d6-a933-f68dba40a559",
   "metadata": {},
   "source": [
    "an iterator in python is an object which is used to iterate over collections of data like list tuples dictionary.we can use 'iter' keyword to create an iterator. For e.g :-"
   ]
  },
  {
   "cell_type": "code",
   "execution_count": 10,
   "id": "10a8c46e-fe68-40c6-8184-ac649baef5bb",
   "metadata": {},
   "outputs": [],
   "source": [
    "l =[2,4,6,8,10,12,14,16,18]"
   ]
  },
  {
   "cell_type": "code",
   "execution_count": 30,
   "id": "f051efe2-ed82-42f6-91de-66ee6d8b1ce7",
   "metadata": {},
   "outputs": [],
   "source": [
    "l1 = iter(l)"
   ]
  },
  {
   "cell_type": "code",
   "execution_count": 31,
   "id": "0c6c48c9-5f3a-4df3-9eea-91705d2418ce",
   "metadata": {},
   "outputs": [
    {
     "name": "stdout",
     "output_type": "stream",
     "text": [
      "2\n",
      "4\n",
      "6\n",
      "8\n",
      "10\n"
     ]
    }
   ],
   "source": [
    "for i in range(5):\n",
    "    print(next(l1))"
   ]
  },
  {
   "cell_type": "markdown",
   "id": "ff94586f-4eb5-46a2-8c58-08f61fd009f1",
   "metadata": {},
   "source": [
    "QUESTION - 4"
   ]
  },
  {
   "cell_type": "markdown",
   "id": "09af90a1-d4ad-4403-a397-dacae16a3ab1",
   "metadata": {},
   "source": [
    "Generator function is used to generate values using a function.yield keyword is used to give out the value to be returned at every condition.For e.g:-"
   ]
  },
  {
   "cell_type": "code",
   "execution_count": 35,
   "id": "10ea7589-db5d-48d2-aa87-bbd3545fca5f",
   "metadata": {},
   "outputs": [],
   "source": [
    "ls=[1,2,3,4,5,6,7,8,10]\n",
    "def test(ls):\n",
    "    for a in ls:\n",
    "        yield a"
   ]
  },
  {
   "cell_type": "code",
   "execution_count": 36,
   "id": "cb999191-8be4-4db4-8df0-77f35d68adfb",
   "metadata": {},
   "outputs": [
    {
     "data": {
      "text/plain": [
       "[1, 2, 3, 4, 5, 6, 7, 8, 10]"
      ]
     },
     "execution_count": 36,
     "metadata": {},
     "output_type": "execute_result"
    }
   ],
   "source": [
    "list(test(ls))"
   ]
  },
  {
   "cell_type": "markdown",
   "id": "2716e2f4-0559-4998-b714-2d088ba7b943",
   "metadata": {},
   "source": [
    "QUESTION - 5"
   ]
  },
  {
   "cell_type": "code",
   "execution_count": 46,
   "id": "6abf5545-778f-4e47-8b3d-fe7309a45f50",
   "metadata": {},
   "outputs": [],
   "source": [
    "ls=[]\n",
    "def primes():\n",
    "    for i in range(1000):\n",
    "        if i==0:\n",
    "            continue\n",
    "        a=1\n",
    "        for j in range(i):\n",
    "            if j==0:\n",
    "                continue\n",
    "            if i%j==0:\n",
    "                a=a+1\n",
    "        if a<=2:\n",
    "            ls.append(i)"
   ]
  },
  {
   "cell_type": "code",
   "execution_count": 48,
   "id": "7af86583-ba67-44de-ba58-933644c17dee",
   "metadata": {},
   "outputs": [],
   "source": [
    "primes()"
   ]
  },
  {
   "cell_type": "code",
   "execution_count": 50,
   "id": "dd2a07c3-5147-4267-87ee-03aea83f73a0",
   "metadata": {},
   "outputs": [
    {
     "data": {
      "text/plain": [
       "[1,\n",
       " 2,\n",
       " 3,\n",
       " 5,\n",
       " 7,\n",
       " 11,\n",
       " 13,\n",
       " 17,\n",
       " 19,\n",
       " 23,\n",
       " 29,\n",
       " 31,\n",
       " 37,\n",
       " 41,\n",
       " 43,\n",
       " 47,\n",
       " 53,\n",
       " 59,\n",
       " 61,\n",
       " 67,\n",
       " 71,\n",
       " 73,\n",
       " 79,\n",
       " 83,\n",
       " 89,\n",
       " 97,\n",
       " 101,\n",
       " 103,\n",
       " 107,\n",
       " 109,\n",
       " 113,\n",
       " 127,\n",
       " 131,\n",
       " 137,\n",
       " 139,\n",
       " 149,\n",
       " 151,\n",
       " 157,\n",
       " 163,\n",
       " 167,\n",
       " 173,\n",
       " 179,\n",
       " 181,\n",
       " 191,\n",
       " 193,\n",
       " 197,\n",
       " 199,\n",
       " 211,\n",
       " 223,\n",
       " 227,\n",
       " 229,\n",
       " 233,\n",
       " 239,\n",
       " 241,\n",
       " 251,\n",
       " 257,\n",
       " 263,\n",
       " 269,\n",
       " 271,\n",
       " 277,\n",
       " 281,\n",
       " 283,\n",
       " 293,\n",
       " 307,\n",
       " 311,\n",
       " 313,\n",
       " 317,\n",
       " 331,\n",
       " 337,\n",
       " 347,\n",
       " 349,\n",
       " 353,\n",
       " 359,\n",
       " 367,\n",
       " 373,\n",
       " 379,\n",
       " 383,\n",
       " 389,\n",
       " 397,\n",
       " 401,\n",
       " 409,\n",
       " 419,\n",
       " 421,\n",
       " 431,\n",
       " 433,\n",
       " 439,\n",
       " 443,\n",
       " 449,\n",
       " 457,\n",
       " 461,\n",
       " 463,\n",
       " 467,\n",
       " 479,\n",
       " 487,\n",
       " 491,\n",
       " 499,\n",
       " 503,\n",
       " 509,\n",
       " 521,\n",
       " 523,\n",
       " 541,\n",
       " 547,\n",
       " 557,\n",
       " 563,\n",
       " 569,\n",
       " 571,\n",
       " 577,\n",
       " 587,\n",
       " 593,\n",
       " 599,\n",
       " 601,\n",
       " 607,\n",
       " 613,\n",
       " 617,\n",
       " 619,\n",
       " 631,\n",
       " 641,\n",
       " 643,\n",
       " 647,\n",
       " 653,\n",
       " 659,\n",
       " 661,\n",
       " 673,\n",
       " 677,\n",
       " 683,\n",
       " 691,\n",
       " 701,\n",
       " 709,\n",
       " 719,\n",
       " 727,\n",
       " 733,\n",
       " 739,\n",
       " 743,\n",
       " 751,\n",
       " 757,\n",
       " 761,\n",
       " 769,\n",
       " 773,\n",
       " 787,\n",
       " 797,\n",
       " 809,\n",
       " 811,\n",
       " 821,\n",
       " 823,\n",
       " 827,\n",
       " 829,\n",
       " 839,\n",
       " 853,\n",
       " 857,\n",
       " 859,\n",
       " 863,\n",
       " 877,\n",
       " 881,\n",
       " 883,\n",
       " 887,\n",
       " 907,\n",
       " 911,\n",
       " 919,\n",
       " 929,\n",
       " 937,\n",
       " 941,\n",
       " 947,\n",
       " 953,\n",
       " 967,\n",
       " 971,\n",
       " 977,\n",
       " 983,\n",
       " 991,\n",
       " 997]"
      ]
     },
     "execution_count": 50,
     "metadata": {},
     "output_type": "execute_result"
    }
   ],
   "source": [
    "list(ls)"
   ]
  },
  {
   "cell_type": "code",
   "execution_count": 57,
   "id": "70a22528-2038-4b1e-8d5e-54fa8fa830e2",
   "metadata": {},
   "outputs": [],
   "source": [
    "lp = iter(ls)"
   ]
  },
  {
   "cell_type": "code",
   "execution_count": 58,
   "id": "3eb17918-7c13-48a0-89fc-2e92015c68d7",
   "metadata": {},
   "outputs": [
    {
     "name": "stdout",
     "output_type": "stream",
     "text": [
      "1\n",
      "2\n",
      "3\n",
      "5\n",
      "7\n",
      "11\n",
      "13\n",
      "17\n",
      "19\n",
      "23\n",
      "29\n",
      "31\n",
      "37\n",
      "41\n",
      "43\n",
      "47\n",
      "53\n",
      "59\n",
      "61\n",
      "67\n"
     ]
    }
   ],
   "source": [
    "for i in range(20):\n",
    "    print(next(lp))"
   ]
  },
  {
   "cell_type": "markdown",
   "id": "b2211fb6-c001-49d9-bbf2-1a7aec0f5d53",
   "metadata": {},
   "source": [
    "QUESTION - 6"
   ]
  },
  {
   "cell_type": "code",
   "execution_count": 59,
   "id": "6ee10434-31d2-4012-a7dc-c3d5309ab5e2",
   "metadata": {},
   "outputs": [],
   "source": [
    "def fib():\n",
    "    a,b=0,1\n",
    "    for i in range(10):\n",
    "        yield a\n",
    "        a,b=a+b,a"
   ]
  },
  {
   "cell_type": "code",
   "execution_count": 60,
   "id": "d1734d28-c557-407a-8d26-6ebca04d23e6",
   "metadata": {},
   "outputs": [
    {
     "data": {
      "text/plain": [
       "[0, 1, 1, 2, 3, 5, 8, 13, 21, 34]"
      ]
     },
     "execution_count": 60,
     "metadata": {},
     "output_type": "execute_result"
    }
   ],
   "source": [
    "list(fib())"
   ]
  },
  {
   "cell_type": "markdown",
   "id": "072f5f47-bc10-4817-912f-94fad8a33edf",
   "metadata": {},
   "source": [
    "QUESTION - 7"
   ]
  },
  {
   "cell_type": "code",
   "execution_count": 61,
   "id": "956748ff-6184-47f6-9e85-70089b6f5424",
   "metadata": {},
   "outputs": [],
   "source": [
    "s = \"pwskills\""
   ]
  },
  {
   "cell_type": "code",
   "execution_count": 67,
   "id": "8181dd87-e034-4fcd-98de-0b85576fd7d0",
   "metadata": {},
   "outputs": [],
   "source": [
    "ls=[]\n",
    "for i in s:\n",
    "    ls.append(i)"
   ]
  },
  {
   "cell_type": "code",
   "execution_count": 68,
   "id": "e17258df-e8ed-4681-bdc7-65be031bb8ed",
   "metadata": {},
   "outputs": [
    {
     "data": {
      "text/plain": [
       "['p', 'w', 's', 'k', 'i', 'l', 'l', 's']"
      ]
     },
     "execution_count": 68,
     "metadata": {},
     "output_type": "execute_result"
    }
   ],
   "source": [
    "ls"
   ]
  },
  {
   "cell_type": "markdown",
   "id": "ddbd7d2f-c5a6-4caf-9193-ee7b9cac6d05",
   "metadata": {},
   "source": [
    "QUESTION - 8"
   ]
  },
  {
   "cell_type": "code",
   "execution_count": 17,
   "id": "9a155bf8-a252-475b-af19-5418354a908a",
   "metadata": {},
   "outputs": [
    {
     "name": "stdin",
     "output_type": "stream",
     "text": [
      " asdsa\n"
     ]
    },
    {
     "name": "stdout",
     "output_type": "stream",
     "text": [
      "given string is palindrome\n"
     ]
    }
   ],
   "source": [
    "s=str(input())\n",
    "i=0\n",
    "j=len(s)-1\n",
    "flag=1\n",
    "while i <= j:\n",
    "    if s[i] != s[j]:\n",
    "        print(\"Given String is not a palindrome\")\n",
    "        flag=flag-1\n",
    "        break\n",
    "    else:\n",
    "        i=i+1\n",
    "        j=j-1\n",
    "else:\n",
    "    if flag==1:\n",
    "        print(\"given string is palindrome\")"
   ]
  },
  {
   "cell_type": "markdown",
   "id": "49a526a3-42e3-475b-be88-034bc505f181",
   "metadata": {},
   "source": [
    "QUESTION - 9"
   ]
  },
  {
   "cell_type": "code",
   "execution_count": 18,
   "id": "cc747f67-2dfe-4ac3-a291-d98ea83f345f",
   "metadata": {},
   "outputs": [],
   "source": [
    "l1=[]\n",
    "for i in range(100):\n",
    "    l1.append(i)"
   ]
  },
  {
   "cell_type": "code",
   "execution_count": 20,
   "id": "288e22bc-9b54-497b-8cba-72ca46e60b8c",
   "metadata": {},
   "outputs": [
    {
     "data": {
      "text/plain": [
       "[1,\n",
       " 3,\n",
       " 5,\n",
       " 7,\n",
       " 9,\n",
       " 11,\n",
       " 13,\n",
       " 15,\n",
       " 17,\n",
       " 19,\n",
       " 21,\n",
       " 23,\n",
       " 25,\n",
       " 27,\n",
       " 29,\n",
       " 31,\n",
       " 33,\n",
       " 35,\n",
       " 37,\n",
       " 39,\n",
       " 41,\n",
       " 43,\n",
       " 45,\n",
       " 47,\n",
       " 49,\n",
       " 51,\n",
       " 53,\n",
       " 55,\n",
       " 57,\n",
       " 59,\n",
       " 61,\n",
       " 63,\n",
       " 65,\n",
       " 67,\n",
       " 69,\n",
       " 71,\n",
       " 73,\n",
       " 75,\n",
       " 77,\n",
       " 79,\n",
       " 81,\n",
       " 83,\n",
       " 85,\n",
       " 87,\n",
       " 89,\n",
       " 91,\n",
       " 93,\n",
       " 95,\n",
       " 97,\n",
       " 99]"
      ]
     },
     "execution_count": 20,
     "metadata": {},
     "output_type": "execute_result"
    }
   ],
   "source": [
    "list(filter(lambda x:x%2!=0,l1))"
   ]
  },
  {
   "cell_type": "code",
   "execution_count": null,
   "id": "831b357a-0bd0-4bd1-ab6c-0a6fc9ed3474",
   "metadata": {},
   "outputs": [],
   "source": []
  }
 ],
 "metadata": {
  "kernelspec": {
   "display_name": "Python 3 (ipykernel)",
   "language": "python",
   "name": "python3"
  },
  "language_info": {
   "codemirror_mode": {
    "name": "ipython",
    "version": 3
   },
   "file_extension": ".py",
   "mimetype": "text/x-python",
   "name": "python",
   "nbconvert_exporter": "python",
   "pygments_lexer": "ipython3",
   "version": "3.10.8"
  }
 },
 "nbformat": 4,
 "nbformat_minor": 5
}
