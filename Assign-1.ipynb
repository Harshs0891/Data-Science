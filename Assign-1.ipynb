{
 "cells": [
  {
   "cell_type": "markdown",
   "id": "09bf68e2-9987-4cb0-81ab-534e33fa6c94",
   "metadata": {},
   "source": [
    "QUESTION - 1 "
   ]
  },
  {
   "cell_type": "code",
   "execution_count": 1,
   "id": "43e24ac3-e55c-443f-af81-72be7dd871cb",
   "metadata": {},
   "outputs": [],
   "source": [
    "s = \"abc\""
   ]
  },
  {
   "cell_type": "code",
   "execution_count": 2,
   "id": "ada79274-0e8e-420b-92e2-59995093289f",
   "metadata": {},
   "outputs": [
    {
     "data": {
      "text/plain": [
       "str"
      ]
     },
     "execution_count": 2,
     "metadata": {},
     "output_type": "execute_result"
    }
   ],
   "source": [
    "type(s)"
   ]
  },
  {
   "cell_type": "code",
   "execution_count": 3,
   "id": "9178c144-0419-456a-a311-b30d29967b38",
   "metadata": {},
   "outputs": [],
   "source": [
    "l = [1,2,3,\"harsh\"]"
   ]
  },
  {
   "cell_type": "code",
   "execution_count": 4,
   "id": "8c0dcc3d-20e5-44bc-ae33-0ab137ae8e75",
   "metadata": {},
   "outputs": [
    {
     "data": {
      "text/plain": [
       "list"
      ]
     },
     "execution_count": 4,
     "metadata": {},
     "output_type": "execute_result"
    }
   ],
   "source": [
    "type(l)"
   ]
  },
  {
   "cell_type": "code",
   "execution_count": 5,
   "id": "27ad6bc5-7cbf-4054-87a4-e21d23c454eb",
   "metadata": {},
   "outputs": [],
   "source": [
    "f = 2.34"
   ]
  },
  {
   "cell_type": "code",
   "execution_count": 6,
   "id": "22c3d60e-41a1-448f-93a1-ae6d8d06a189",
   "metadata": {},
   "outputs": [
    {
     "data": {
      "text/plain": [
       "float"
      ]
     },
     "execution_count": 6,
     "metadata": {},
     "output_type": "execute_result"
    }
   ],
   "source": [
    "type(f)"
   ]
  },
  {
   "cell_type": "code",
   "execution_count": 7,
   "id": "f8ea6d99-e838-4a0b-bdbe-32ff74b26c43",
   "metadata": {},
   "outputs": [],
   "source": [
    "myTuple = (\"apple\",\"pineapple\",\"mango\")"
   ]
  },
  {
   "cell_type": "code",
   "execution_count": 8,
   "id": "e83a8163-7013-4f5d-a7e0-c2b4c0201e2e",
   "metadata": {},
   "outputs": [
    {
     "data": {
      "text/plain": [
       "tuple"
      ]
     },
     "execution_count": 8,
     "metadata": {},
     "output_type": "execute_result"
    }
   ],
   "source": [
    "type(myTuple)"
   ]
  },
  {
   "cell_type": "markdown",
   "id": "8340f1e2-de9d-4579-9842-1571c1ce060f",
   "metadata": {},
   "source": [
    "QUESTON - 2"
   ]
  },
  {
   "cell_type": "code",
   "execution_count": 9,
   "id": "048f5177-6f81-4a9b-82e0-029ad5511d2a",
   "metadata": {},
   "outputs": [],
   "source": [
    "var1 =''"
   ]
  },
  {
   "cell_type": "code",
   "execution_count": 10,
   "id": "d6ab38cd-54d2-4aac-83be-1b0a6228931a",
   "metadata": {},
   "outputs": [
    {
     "data": {
      "text/plain": [
       "str"
      ]
     },
     "execution_count": 10,
     "metadata": {},
     "output_type": "execute_result"
    }
   ],
   "source": [
    "type(var1)"
   ]
  },
  {
   "cell_type": "code",
   "execution_count": 11,
   "id": "7c01c336-9eb9-4fd0-894b-0dc156762e56",
   "metadata": {},
   "outputs": [],
   "source": [
    "var2 = '[DS,ML,Python]'"
   ]
  },
  {
   "cell_type": "code",
   "execution_count": 12,
   "id": "ac5784aa-747b-4599-b71a-d966a5a8a023",
   "metadata": {},
   "outputs": [
    {
     "data": {
      "text/plain": [
       "str"
      ]
     },
     "execution_count": 12,
     "metadata": {},
     "output_type": "execute_result"
    }
   ],
   "source": [
    "type(var2)"
   ]
  },
  {
   "cell_type": "code",
   "execution_count": 13,
   "id": "f00e6d28-fad7-4792-af9a-a8e1165d66f6",
   "metadata": {},
   "outputs": [],
   "source": [
    "var3 = ['DS','ML','python']"
   ]
  },
  {
   "cell_type": "code",
   "execution_count": 14,
   "id": "97960c6d-ffa0-4f0d-9699-a995ad1898dd",
   "metadata": {},
   "outputs": [
    {
     "data": {
      "text/plain": [
       "list"
      ]
     },
     "execution_count": 14,
     "metadata": {},
     "output_type": "execute_result"
    }
   ],
   "source": [
    "type(var3)"
   ]
  },
  {
   "cell_type": "code",
   "execution_count": 15,
   "id": "540aed2f-6753-4fbe-9c05-4ba155d0900d",
   "metadata": {},
   "outputs": [
    {
     "data": {
      "text/plain": [
       "int"
      ]
     },
     "execution_count": 15,
     "metadata": {},
     "output_type": "execute_result"
    }
   ],
   "source": [
    "var4 = 1\n",
    "type(var4)"
   ]
  },
  {
   "cell_type": "markdown",
   "id": "0f6ce62d-b273-4dfd-bb92-ad56e3c3e401",
   "metadata": {},
   "source": [
    "QUESTION - 3"
   ]
  },
  {
   "cell_type": "code",
   "execution_count": 16,
   "id": "d45917d9-45d0-4750-b01b-992e94378f2c",
   "metadata": {},
   "outputs": [
    {
     "data": {
      "text/plain": [
       "5.0"
      ]
     },
     "execution_count": 16,
     "metadata": {},
     "output_type": "execute_result"
    }
   ],
   "source": [
    "# '/' is used to divide two numbers\n",
    "20 / 4"
   ]
  },
  {
   "cell_type": "code",
   "execution_count": 17,
   "id": "579bc2e0-f94f-4ade-a2b0-a95cbc003e7e",
   "metadata": {},
   "outputs": [
    {
     "data": {
      "text/plain": [
       "2"
      ]
     },
     "execution_count": 17,
     "metadata": {},
     "output_type": "execute_result"
    }
   ],
   "source": [
    "# '%' is used to find the module of two numbers\n",
    "\n",
    "12 % 5"
   ]
  },
  {
   "cell_type": "code",
   "execution_count": 1,
   "id": "9e5c9d6b-9443-4e6d-b8da-643875282048",
   "metadata": {},
   "outputs": [
    {
     "data": {
      "text/plain": [
       "1"
      ]
     },
     "execution_count": 1,
     "metadata": {},
     "output_type": "execute_result"
    }
   ],
   "source": [
    "# '//' divides and gives the floor value\n",
    "12 // 7"
   ]
  },
  {
   "cell_type": "code",
   "execution_count": 2,
   "id": "7148ad81-8972-4332-b85a-dc9ed24b4880",
   "metadata": {},
   "outputs": [
    {
     "data": {
      "text/plain": [
       "8"
      ]
     },
     "execution_count": 2,
     "metadata": {},
     "output_type": "execute_result"
    }
   ],
   "source": [
    "# '**' used to calculate the power of number\n",
    "\n",
    "2**3"
   ]
  },
  {
   "cell_type": "markdown",
   "id": "0473db15-0e63-4268-bb56-af217cd5a876",
   "metadata": {},
   "source": [
    "QUESTION - 4"
   ]
  },
  {
   "cell_type": "code",
   "execution_count": 3,
   "id": "49e6449d-f0ce-4b22-9b18-50aedc81977b",
   "metadata": {},
   "outputs": [],
   "source": [
    "lst = [1,2,3,4,5,6,\"abc\",True,2.3,\"am\"]"
   ]
  },
  {
   "cell_type": "code",
   "execution_count": 5,
   "id": "828e6119-1375-45af-be27-7bb1f12d5ef5",
   "metadata": {},
   "outputs": [
    {
     "name": "stdout",
     "output_type": "stream",
     "text": [
      "1\n",
      "<class 'int'>\n",
      "2\n",
      "<class 'int'>\n",
      "3\n",
      "<class 'int'>\n",
      "4\n",
      "<class 'int'>\n",
      "5\n",
      "<class 'int'>\n",
      "6\n",
      "<class 'int'>\n",
      "abc\n",
      "<class 'str'>\n",
      "True\n",
      "<class 'bool'>\n",
      "2.3\n",
      "<class 'float'>\n",
      "am\n",
      "<class 'str'>\n"
     ]
    }
   ],
   "source": [
    "for i in lst :\n",
    "    print(i)\n",
    "    print(type(i))"
   ]
  },
  {
   "cell_type": "markdown",
   "id": "c4f6c95d-7ebf-4be8-a563-2b7b44b101d0",
   "metadata": {},
   "source": [
    "QUESTION - 5"
   ]
  },
  {
   "cell_type": "code",
   "execution_count": 13,
   "id": "a020cb02-3ad8-4ab9-9a6a-57d4e98e2d2a",
   "metadata": {},
   "outputs": [
    {
     "name": "stdin",
     "output_type": "stream",
     "text": [
      " 24\n",
      " 2\n"
     ]
    },
    {
     "name": "stdout",
     "output_type": "stream",
     "text": [
      "A is purely divisible by B\n",
      "3\n"
     ]
    }
   ],
   "source": [
    "a= int(input())\n",
    "b=int(input())\n",
    "count = int(0)\n",
    "if a%b == 0 :\n",
    "    print(\"A is purely divisible by B\")\n",
    "    while a % b == 0 :\n",
    "        a /= b\n",
    "        count+=1\n",
    "else :\n",
    "    print(\"A is not divisible by B\")\n",
    "\n",
    "print(count)"
   ]
  },
  {
   "cell_type": "markdown",
   "id": "c5dfa140-a545-4f3c-9c0d-6c68ae47e6f1",
   "metadata": {},
   "source": [
    "QUESTION - 6"
   ]
  },
  {
   "cell_type": "code",
   "execution_count": 14,
   "id": "f417ec19-faea-4a66-9f41-238e863b3092",
   "metadata": {},
   "outputs": [],
   "source": [
    "n = list(range(25))"
   ]
  },
  {
   "cell_type": "code",
   "execution_count": 15,
   "id": "8ee1ed68-2b77-47fb-8f49-465b55a6a292",
   "metadata": {},
   "outputs": [
    {
     "data": {
      "text/plain": [
       "[0,\n",
       " 1,\n",
       " 2,\n",
       " 3,\n",
       " 4,\n",
       " 5,\n",
       " 6,\n",
       " 7,\n",
       " 8,\n",
       " 9,\n",
       " 10,\n",
       " 11,\n",
       " 12,\n",
       " 13,\n",
       " 14,\n",
       " 15,\n",
       " 16,\n",
       " 17,\n",
       " 18,\n",
       " 19,\n",
       " 20,\n",
       " 21,\n",
       " 22,\n",
       " 23,\n",
       " 24]"
      ]
     },
     "execution_count": 15,
     "metadata": {},
     "output_type": "execute_result"
    }
   ],
   "source": [
    "n"
   ]
  },
  {
   "cell_type": "code",
   "execution_count": 16,
   "id": "a3c345b4-9542-4df2-aaa2-0376444f6a32",
   "metadata": {},
   "outputs": [
    {
     "name": "stdout",
     "output_type": "stream",
     "text": [
      "0\n",
      "3\n",
      "6\n",
      "9\n",
      "12\n",
      "15\n",
      "18\n",
      "21\n",
      "24\n"
     ]
    }
   ],
   "source": [
    "for i in n :\n",
    "    if i%3 == 0:\n",
    "        print(i)"
   ]
  },
  {
   "cell_type": "markdown",
   "id": "3d3f5c7f-3378-481e-b09c-01d8ab74c111",
   "metadata": {},
   "source": [
    "QUESTION - 7"
   ]
  },
  {
   "cell_type": "markdown",
   "id": "8d1db16c-622c-47ac-bfe5-163bd48c9875",
   "metadata": {},
   "source": [
    "Mutable DataTypes -> the data type whose value can be changed like the value of an element in a list can be changed"
   ]
  },
  {
   "cell_type": "code",
   "execution_count": 18,
   "id": "3c07b243-9d57-4ca9-8589-b441b90b0159",
   "metadata": {},
   "outputs": [],
   "source": [
    "nl = [1,2,3,4]"
   ]
  },
  {
   "cell_type": "code",
   "execution_count": 19,
   "id": "8df13fd1-9bc1-4b30-bbd9-8f5af72221d3",
   "metadata": {},
   "outputs": [
    {
     "data": {
      "text/plain": [
       "[1, 2, 3, 4]"
      ]
     },
     "execution_count": 19,
     "metadata": {},
     "output_type": "execute_result"
    }
   ],
   "source": [
    "nl"
   ]
  },
  {
   "cell_type": "code",
   "execution_count": 20,
   "id": "99ae49f7-f434-4892-8d8c-25bd7854cb74",
   "metadata": {},
   "outputs": [],
   "source": [
    "nl[2]=200"
   ]
  },
  {
   "cell_type": "code",
   "execution_count": 21,
   "id": "8808401e-f039-4c52-be88-5f489595ebdf",
   "metadata": {},
   "outputs": [
    {
     "data": {
      "text/plain": [
       "[1, 2, 200, 4]"
      ]
     },
     "execution_count": 21,
     "metadata": {},
     "output_type": "execute_result"
    }
   ],
   "source": [
    "nl"
   ]
  },
  {
   "cell_type": "markdown",
   "id": "a4c1f604-6000-4813-baeb-ea9b16bc604c",
   "metadata": {},
   "source": [
    "Immutable DataTypes -> the data type whose elements value cannot be changed for example we cannot change the character of a string"
   ]
  },
  {
   "cell_type": "code",
   "execution_count": 22,
   "id": "4eda7454-46eb-4a37-b518-8a7e14621c50",
   "metadata": {},
   "outputs": [],
   "source": [
    "s = \"absc\""
   ]
  },
  {
   "cell_type": "code",
   "execution_count": 23,
   "id": "29ca7d1f-02eb-461f-8908-950b766fed67",
   "metadata": {},
   "outputs": [
    {
     "ename": "TypeError",
     "evalue": "'str' object does not support item assignment",
     "output_type": "error",
     "traceback": [
      "\u001b[0;31m---------------------------------------------------------------------------\u001b[0m",
      "\u001b[0;31mTypeError\u001b[0m                                 Traceback (most recent call last)",
      "Cell \u001b[0;32mIn[23], line 1\u001b[0m\n\u001b[0;32m----> 1\u001b[0m \u001b[43ms\u001b[49m\u001b[43m[\u001b[49m\u001b[38;5;241;43m2\u001b[39;49m\u001b[43m]\u001b[49m\u001b[38;5;241m=\u001b[39m\u001b[38;5;124m'\u001b[39m\u001b[38;5;124mh\u001b[39m\u001b[38;5;124m'\u001b[39m\n",
      "\u001b[0;31mTypeError\u001b[0m: 'str' object does not support item assignment"
     ]
    }
   ],
   "source": [
    "s[2]='h'"
   ]
  },
  {
   "cell_type": "code",
   "execution_count": null,
   "id": "64fc7d17-0c57-476f-933a-e9e3c8315ef2",
   "metadata": {},
   "outputs": [],
   "source": []
  }
 ],
 "metadata": {
  "kernelspec": {
   "display_name": "Python 3 (ipykernel)",
   "language": "python",
   "name": "python3"
  },
  "language_info": {
   "codemirror_mode": {
    "name": "ipython",
    "version": 3
   },
   "file_extension": ".py",
   "mimetype": "text/x-python",
   "name": "python",
   "nbconvert_exporter": "python",
   "pygments_lexer": "ipython3",
   "version": "3.10.8"
  }
 },
 "nbformat": 4,
 "nbformat_minor": 5
}
