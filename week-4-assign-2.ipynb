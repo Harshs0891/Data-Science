{
 "cells": [
  {
   "cell_type": "markdown",
   "id": "9e102f0d-da9c-48e2-be85-c7807b97e124",
   "metadata": {},
   "source": [
    "QUESTION - 1"
   ]
  },
  {
   "cell_type": "markdown",
   "id": "59652fd3-9c66-47ca-8e0f-6580bd305ea6",
   "metadata": {},
   "source": [
    "Class :- it is the blueprint for creating objects with specific properties and behaviour,\n",
    "Object:- it is an instance of class which represent the real world entity\n",
    "\n",
    "EXAMPLE:- Animal is the class and lion,cat,dog,etc are the objects of the clss Animal."
   ]
  },
  {
   "cell_type": "markdown",
   "id": "4c07987f-f3b7-4c28-9728-b1e4d1d08c4f",
   "metadata": {},
   "source": [
    "QUESTION - 2"
   ]
  },
  {
   "cell_type": "markdown",
   "id": "c1e4b5b5-d6ef-4e9f-8099-010d93c1e277",
   "metadata": {},
   "source": [
    "Four pillars of OOPS :-\n",
    "1. Inheritence\n",
    "2. Polymorphism\n",
    "3. Encapsulation\n",
    "4. Abstraction"
   ]
  },
  {
   "cell_type": "markdown",
   "id": "a0abf34f-2f80-4355-afee-01e21ee808d3",
   "metadata": {},
   "source": [
    "QUESTION - 3"
   ]
  },
  {
   "cell_type": "markdown",
   "id": "3384ee8b-4c6b-4dcc-b382-e71c3923c42d",
   "metadata": {},
   "source": [
    "__init__ function is used to declare a constructor of a class which is used to instanciate the instance variables Example :-"
   ]
  },
  {
   "cell_type": "code",
   "execution_count": 2,
   "id": "3a2c4bb1-e8bf-4c5d-b0ee-9a94d5e37de7",
   "metadata": {},
   "outputs": [],
   "source": [
    "class test:\n",
    "    def __init__(self,name,age):\n",
    "        self.name=name\n",
    "        self.age=age"
   ]
  },
  {
   "cell_type": "code",
   "execution_count": 4,
   "id": "a6f07008-d27b-4bf7-ba98-59d01d92fdfb",
   "metadata": {},
   "outputs": [],
   "source": [
    "obj=test(\"Harsh\",20)"
   ]
  },
  {
   "cell_type": "code",
   "execution_count": 5,
   "id": "d3ca3560-92aa-46e5-b4a0-ecd87a284442",
   "metadata": {},
   "outputs": [
    {
     "data": {
      "text/plain": [
       "'Harsh'"
      ]
     },
     "execution_count": 5,
     "metadata": {},
     "output_type": "execute_result"
    }
   ],
   "source": [
    "obj.name"
   ]
  },
  {
   "cell_type": "code",
   "execution_count": 6,
   "id": "f790081f-8be5-44a7-9ea1-3e79ea512ff7",
   "metadata": {},
   "outputs": [
    {
     "data": {
      "text/plain": [
       "20"
      ]
     },
     "execution_count": 6,
     "metadata": {},
     "output_type": "execute_result"
    }
   ],
   "source": [
    "obj.age"
   ]
  },
  {
   "cell_type": "markdown",
   "id": "de3a4a0f-ad99-4ec2-a6f1-140ab447b7ed",
   "metadata": {},
   "source": [
    "QUESTION - 4"
   ]
  },
  {
   "cell_type": "markdown",
   "id": "79129b40-33d1-40a7-81d7-52dd41565380",
   "metadata": {},
   "source": [
    "self is used in oops to bind the instance varibale or method to the class"
   ]
  },
  {
   "cell_type": "markdown",
   "id": "fc8bf226-b586-49e7-baba-1afc8d924b60",
   "metadata": {},
   "source": [
    "QUESTION - 5"
   ]
  },
  {
   "cell_type": "markdown",
   "id": "18dcf5c5-8704-41bc-8a35-ac0f32edef7f",
   "metadata": {},
   "source": [
    "inheritence is that pillar of oops which allows the child class to access the methods and variables of the parent class."
   ]
  },
  {
   "cell_type": "code",
   "execution_count": 11,
   "id": "32c1096d-2a18-4760-8647-44a3262b2d8e",
   "metadata": {},
   "outputs": [],
   "source": [
    "class test1:\n",
    "    def prt1(self):\n",
    "        print(\"test 1\")"
   ]
  },
  {
   "cell_type": "code",
   "execution_count": 12,
   "id": "57e970e2-702d-4397-9262-641625242738",
   "metadata": {},
   "outputs": [],
   "source": [
    "class test2:\n",
    "    def prt2(self):\n",
    "        print(\"test 2\")"
   ]
  },
  {
   "cell_type": "markdown",
   "id": "e1495148-f293-490f-afc5-0879af563291",
   "metadata": {},
   "source": [
    "EX-1 Hierarchy inheritence"
   ]
  },
  {
   "cell_type": "code",
   "execution_count": 14,
   "id": "c60ca903-7985-4ef4-b4fc-31b106aa3215",
   "metadata": {},
   "outputs": [],
   "source": [
    "class test3(test1):\n",
    "    def prt3(self):\n",
    "        print(\"test 3\")"
   ]
  },
  {
   "cell_type": "code",
   "execution_count": 15,
   "id": "d12e7b68-a008-44e6-9f9a-9f1f28abb975",
   "metadata": {},
   "outputs": [],
   "source": [
    "obt = test3()"
   ]
  },
  {
   "cell_type": "code",
   "execution_count": 16,
   "id": "c4f9cc63-0b94-4e7e-9468-55a10675c45e",
   "metadata": {},
   "outputs": [
    {
     "name": "stdout",
     "output_type": "stream",
     "text": [
      "test 1\n"
     ]
    }
   ],
   "source": [
    "obt.prt1()"
   ]
  },
  {
   "cell_type": "markdown",
   "id": "3c4d506c-c801-4401-9401-8398489c2190",
   "metadata": {},
   "source": [
    "EX - 2 multiple inheritence"
   ]
  },
  {
   "cell_type": "code",
   "execution_count": 18,
   "id": "4e1da4b5-376a-484e-9887-7f69ffe57207",
   "metadata": {},
   "outputs": [],
   "source": [
    "class test4(test1,test2):\n",
    "    pass"
   ]
  },
  {
   "cell_type": "code",
   "execution_count": 19,
   "id": "e60bb731-9d54-4d98-a468-333892f429ef",
   "metadata": {},
   "outputs": [],
   "source": [
    "tst = test4()"
   ]
  },
  {
   "cell_type": "code",
   "execution_count": 20,
   "id": "6d911116-bf23-4515-ad40-8f7f67186c25",
   "metadata": {},
   "outputs": [
    {
     "name": "stdout",
     "output_type": "stream",
     "text": [
      "test 1\n"
     ]
    }
   ],
   "source": [
    "tst.prt1()"
   ]
  },
  {
   "cell_type": "code",
   "execution_count": 21,
   "id": "09080609-45e1-42d2-95a4-6557b1cdfc37",
   "metadata": {},
   "outputs": [
    {
     "name": "stdout",
     "output_type": "stream",
     "text": [
      "test 2\n"
     ]
    }
   ],
   "source": [
    "tst.prt2()"
   ]
  },
  {
   "cell_type": "markdown",
   "id": "1d595530-6ad9-4a8e-b023-069ee80bf159",
   "metadata": {},
   "source": [
    "EX - 3 Multi-Level inheritence"
   ]
  },
  {
   "cell_type": "code",
   "execution_count": 23,
   "id": "a660c9be-d00c-469a-b369-e979ff1a2ce3",
   "metadata": {},
   "outputs": [],
   "source": [
    "class test5(test3):\n",
    "    pass"
   ]
  },
  {
   "cell_type": "code",
   "execution_count": 24,
   "id": "009ad80e-e70b-412c-a304-e6569261029a",
   "metadata": {},
   "outputs": [],
   "source": [
    "tst2 = test5()"
   ]
  },
  {
   "cell_type": "code",
   "execution_count": 25,
   "id": "bd52e645-9fed-4899-8dbc-24a299e52b92",
   "metadata": {},
   "outputs": [
    {
     "name": "stdout",
     "output_type": "stream",
     "text": [
      "test 3\n"
     ]
    }
   ],
   "source": [
    "tst2.prt3()"
   ]
  },
  {
   "cell_type": "code",
   "execution_count": 26,
   "id": "ec621ee3-fe77-4d4c-9efa-90131312d33b",
   "metadata": {},
   "outputs": [
    {
     "name": "stdout",
     "output_type": "stream",
     "text": [
      "test 1\n"
     ]
    }
   ],
   "source": [
    "tst2.prt1()"
   ]
  },
  {
   "cell_type": "code",
   "execution_count": null,
   "id": "530f72cb-05f7-4dbd-9ce0-263b2651168a",
   "metadata": {},
   "outputs": [],
   "source": []
  }
 ],
 "metadata": {
  "kernelspec": {
   "display_name": "Python 3 (ipykernel)",
   "language": "python",
   "name": "python3"
  },
  "language_info": {
   "codemirror_mode": {
    "name": "ipython",
    "version": 3
   },
   "file_extension": ".py",
   "mimetype": "text/x-python",
   "name": "python",
   "nbconvert_exporter": "python",
   "pygments_lexer": "ipython3",
   "version": "3.10.8"
  }
 },
 "nbformat": 4,
 "nbformat_minor": 5
}
