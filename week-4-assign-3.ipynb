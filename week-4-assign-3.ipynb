{
 "cells": [
  {
   "cell_type": "markdown",
   "id": "a721b379-99c2-4008-a927-16e32cc82fc6",
   "metadata": {},
   "source": [
    "QUESTION - 1"
   ]
  },
  {
   "cell_type": "markdown",
   "id": "fdc72faa-c37a-427b-a894-98a37899815d",
   "metadata": {},
   "source": [
    "The process of hiding irrelevant information and showing only necessary details to the user is called abstraction. Ex:-"
   ]
  },
  {
   "cell_type": "code",
   "execution_count": 2,
   "id": "a26e454e-1536-47e8-82e6-9b30728c51b3",
   "metadata": {},
   "outputs": [],
   "source": [
    "import abc\n",
    "class animal():\n",
    "    @abc.abstractmethod\n",
    "    def running(self):\n",
    "        pass"
   ]
  },
  {
   "cell_type": "code",
   "execution_count": 3,
   "id": "b581e74f-f91a-44fd-abd9-ed4dc0cea85b",
   "metadata": {},
   "outputs": [],
   "source": [
    "class test(animal):\n",
    "    def running(self):\n",
    "        return \"Animal is running\""
   ]
  },
  {
   "cell_type": "code",
   "execution_count": 4,
   "id": "6a512ae4-5103-4d18-aae0-ad31748ee7e7",
   "metadata": {},
   "outputs": [],
   "source": [
    "obj=test()"
   ]
  },
  {
   "cell_type": "code",
   "execution_count": 5,
   "id": "9c24a634-6a7a-4cb0-8095-f89c9e2964f3",
   "metadata": {},
   "outputs": [
    {
     "data": {
      "text/plain": [
       "'Animal is running'"
      ]
     },
     "execution_count": 5,
     "metadata": {},
     "output_type": "execute_result"
    }
   ],
   "source": [
    "obj.running()"
   ]
  },
  {
   "cell_type": "markdown",
   "id": "9aefcffb-ec6c-4095-a31e-6f1cf48cf250",
   "metadata": {},
   "source": [
    "QUESTION - 2"
   ]
  },
  {
   "cell_type": "markdown",
   "id": "f29aab27-5619-463d-96d8-c13982bb4e55",
   "metadata": {},
   "source": [
    "abstraction is a process of hiding irrelevant information and showing only necessary details to the user while encapsulation is the process of hiding the access of methods and variables inside the class which increases the security of the program. Ex:-"
   ]
  },
  {
   "cell_type": "markdown",
   "id": "340c4df6-06de-4b20-a304-22ee9968306a",
   "metadata": {},
   "source": [
    "ENCAPSULATION"
   ]
  },
  {
   "cell_type": "code",
   "execution_count": 6,
   "id": "1adc005a-b482-4e15-9189-63a03a11fa37",
   "metadata": {},
   "outputs": [],
   "source": [
    "class enc:\n",
    "    def __init__(self,name,age):\n",
    "        self.__name=name\n",
    "        self.__age=age"
   ]
  },
  {
   "cell_type": "code",
   "execution_count": 8,
   "id": "7d3ac852-c5d2-4606-aed3-b0c62ab63b1e",
   "metadata": {},
   "outputs": [],
   "source": [
    "obj=enc(\"harsh\",20)"
   ]
  },
  {
   "cell_type": "code",
   "execution_count": 14,
   "id": "ae20aa4f-d154-4425-aad1-88c8637e7379",
   "metadata": {},
   "outputs": [
    {
     "ename": "AttributeError",
     "evalue": "'enc' object has no attribute 'name'",
     "output_type": "error",
     "traceback": [
      "\u001b[0;31m---------------------------------------------------------------------------\u001b[0m",
      "\u001b[0;31mAttributeError\u001b[0m                            Traceback (most recent call last)",
      "Cell \u001b[0;32mIn[14], line 2\u001b[0m\n\u001b[1;32m      1\u001b[0m \u001b[38;5;66;03m#now we cannot access the methods or variable directly\u001b[39;00m\n\u001b[0;32m----> 2\u001b[0m \u001b[43mobj\u001b[49m\u001b[38;5;241;43m.\u001b[39;49m\u001b[43mname\u001b[49m\n",
      "\u001b[0;31mAttributeError\u001b[0m: 'enc' object has no attribute 'name'"
     ]
    }
   ],
   "source": [
    "#now we cannot access the methods or variable directly\n",
    "obj.name"
   ]
  },
  {
   "cell_type": "code",
   "execution_count": 15,
   "id": "1bb60ae8-d3be-48a4-82ae-fe33f742d811",
   "metadata": {},
   "outputs": [
    {
     "data": {
      "text/plain": [
       "'harsh'"
      ]
     },
     "execution_count": 15,
     "metadata": {},
     "output_type": "execute_result"
    }
   ],
   "source": [
    "#correct way to access the variables\n",
    "obj._enc__name"
   ]
  },
  {
   "cell_type": "code",
   "execution_count": 12,
   "id": "c53b08ef-29f4-4b1d-8348-9210ade9d095",
   "metadata": {},
   "outputs": [
    {
     "data": {
      "text/plain": [
       "20"
      ]
     },
     "execution_count": 12,
     "metadata": {},
     "output_type": "execute_result"
    }
   ],
   "source": [
    "obj._enc__age"
   ]
  },
  {
   "cell_type": "markdown",
   "id": "bbcc8b8c-798c-4e2b-bb76-eb3ef7481d5c",
   "metadata": {},
   "source": [
    "ABSTRACTION"
   ]
  },
  {
   "cell_type": "code",
   "execution_count": 16,
   "id": "8cd631c8-d3e9-45d3-897b-796306c44e61",
   "metadata": {},
   "outputs": [],
   "source": [
    "import abc\n",
    "class ab:\n",
    "    @abc.abstractmethod\n",
    "    def sleep(self):\n",
    "        pass"
   ]
  },
  {
   "cell_type": "code",
   "execution_count": 17,
   "id": "b644904c-b4a7-4add-a001-d09b35809548",
   "metadata": {},
   "outputs": [],
   "source": [
    "class cd(ab):\n",
    "    def sleep(self):\n",
    "        print(\"sleeping\")"
   ]
  },
  {
   "cell_type": "code",
   "execution_count": 20,
   "id": "9b003fe2-fd37-4578-b4f5-9ffb96baa8dd",
   "metadata": {},
   "outputs": [],
   "source": [
    "obg=cd()"
   ]
  },
  {
   "cell_type": "code",
   "execution_count": 21,
   "id": "fb8afec7-ade2-4746-af17-88b2f957c30d",
   "metadata": {},
   "outputs": [
    {
     "name": "stdout",
     "output_type": "stream",
     "text": [
      "sleeping\n"
     ]
    }
   ],
   "source": [
    "obg.sleep()"
   ]
  },
  {
   "cell_type": "markdown",
   "id": "663a50f6-5eea-49e5-9a76-83c5868179f9",
   "metadata": {},
   "source": [
    "QUESTION - 3"
   ]
  },
  {
   "cell_type": "markdown",
   "id": "87c229bc-624d-4314-a655-2cb4470da026",
   "metadata": {},
   "source": [
    "The \"abc\" module provides the infrastructure for defining custom abstract base classes.\"abc\" works by marking methods base class as abstract. this is done by @abc.abstractmethod decorator"
   ]
  },
  {
   "cell_type": "markdown",
   "id": "e9f7257b-e0fa-4b31-bf4c-82e30833ff8a",
   "metadata": {},
   "source": [
    "QUESTION - 4"
   ]
  },
  {
   "cell_type": "markdown",
   "id": "d87fc446-5570-45be-a99f-49e034d646d2",
   "metadata": {},
   "source": [
    "We can achieve data abstraction using abc module's @abstractmethod decorator.Ex:-"
   ]
  },
  {
   "cell_type": "code",
   "execution_count": 22,
   "id": "4cb97e0a-c110-40b9-9cfd-13c8672e8e6b",
   "metadata": {},
   "outputs": [],
   "source": [
    "import abc\n",
    "class abc():\n",
    "    @abc.abstractmethod\n",
    "    def test():\n",
    "        pass"
   ]
  },
  {
   "cell_type": "markdown",
   "id": "ee0901db-84b8-49b1-8271-e7690e948944",
   "metadata": {},
   "source": [
    "QUESTION - 5"
   ]
  },
  {
   "cell_type": "markdown",
   "id": "4326599e-32d7-46e2-b282-dc5874c37da9",
   "metadata": {},
   "source": [
    "No. abstract classes cannot be instantiated but they can be subclassed because abstract class are not complete as they may have some methods that are not defined."
   ]
  },
  {
   "cell_type": "code",
   "execution_count": null,
   "id": "818383cb-a918-44a1-821d-e5a0ad2c86af",
   "metadata": {},
   "outputs": [],
   "source": []
  }
 ],
 "metadata": {
  "kernelspec": {
   "display_name": "Python 3 (ipykernel)",
   "language": "python",
   "name": "python3"
  },
  "language_info": {
   "codemirror_mode": {
    "name": "ipython",
    "version": 3
   },
   "file_extension": ".py",
   "mimetype": "text/x-python",
   "name": "python",
   "nbconvert_exporter": "python",
   "pygments_lexer": "ipython3",
   "version": "3.10.8"
  }
 },
 "nbformat": 4,
 "nbformat_minor": 5
}
