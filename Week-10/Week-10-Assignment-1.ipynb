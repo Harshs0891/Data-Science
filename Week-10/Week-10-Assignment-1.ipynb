{
 "cells": [
  {
   "cell_type": "markdown",
   "metadata": {},
   "source": [
    "***Q1.*** What is Statistics?"
   ]
  },
  {
   "cell_type": "markdown",
   "metadata": {},
   "source": [
    "***Answer***\n",
    "\n",
    "Statistics is a science of collecting,organising and analyzing the data."
   ]
  },
  {
   "cell_type": "markdown",
   "metadata": {},
   "source": [
    "***Q2.*** Define the different types of statistics and give an example of when each type might be used."
   ]
  },
  {
   "cell_type": "markdown",
   "metadata": {},
   "source": [
    "***Answer***\n",
    "\n",
    "There are 2 types of statistics :- \n",
    "1. ***Descriptive Statistics*** :- consists of organising and summarizing the data.It is used when we have to calculate the central tendencies,measure of dispersion,different type of distribution of data.\n",
    "2. ***Inferential Statistics*** :- consists of using data you have measured to form conclusion.It is used to make inferences based on measures of sample we have calculated earlier."
   ]
  },
  {
   "cell_type": "markdown",
   "metadata": {},
   "source": [
    "***Q3.*** What are the different types of data and how do they differ from each other? Provide an example of\n",
    "each type of data."
   ]
  },
  {
   "cell_type": "markdown",
   "metadata": {},
   "source": [
    "***Answer***\n",
    "\n",
    "There are 2 types of data :- \n",
    "\n",
    "***1. Quantitative Data*** :- this consists of numerical data. Example:- heights of student in a class = [183cm,170cm,178cm,180cm]\n",
    "\n",
    "***2. Qualitative Data*** :- this consists of categorical data. Example:- color of eyes = ['black','brown','blue']"
   ]
  },
  {
   "cell_type": "markdown",
   "metadata": {},
   "source": [
    "***Q4.*** Categorise the following datasets with respect to quantitative and qualitative data types:\n",
    "\n",
    "(i) Grading in exam: A+, A, B+, B, C+, C, D, E\n",
    "\n",
    "(ii) Colour of mangoes: yellow, green, orange, red\n",
    "\n",
    "(iii) Height data of a class: [178.9, 179, 179.5, 176, 177.2, 178.3, 175.8,...]\n",
    "\n",
    "(iv) Number of mangoes exported by a farm: [500, 600, 478, 672, ...]"
   ]
  },
  {
   "cell_type": "markdown",
   "metadata": {},
   "source": [
    "***Answer***\n",
    "\n",
    "(i) Qualitative Data\n",
    "\n",
    "(ii) Qualitative Data\n",
    "\n",
    "(iii) Quantitative Data\n",
    "\n",
    "(iv) Quantitative Data"
   ]
  },
  {
   "cell_type": "markdown",
   "metadata": {},
   "source": [
    "***Q5.*** Explain the concept of levels of measurement and give an example of a variable for each level."
   ]
  },
  {
   "cell_type": "markdown",
   "metadata": {},
   "source": [
    "***Answer***\n",
    "\n",
    "\n",
    "Levels of measurement, also known as scales of measurement or data measurement scales, refer to a way of classifying and categorizing the types of data we encounter in statistics and research.\n",
    "\n",
    "***Nominal Level*** :- At this level data is categorized in such a way that it do not have any inherent order or ranking. ***Example*** :- Color of hair\n",
    "\n",
    "***Ordinal Level Of Measurement*** :- At this level data is categorized in a such way that ot does have ranking and data can be ranked accordingly.\n",
    "***Example*** :- grade of students in class\n",
    "\n",
    "***Interval Level of measurement*** :- At this level, data has a meaningful order, and the intervals between values are equal and meaningful. However, there is no true zero point. ***Example*** :- Temperature in degrees Celsius or Fahrenheit. While you can say that 20°C is 10°C warmer than 10°C, you can't say there is \"zero\" temperature because 0°C or 0°F does not represent an absence of temperature but rather a reference point.\n",
    "\n",
    "***Ratio Level of measurement***:- Ratio data has all the characteristics of interval data, but it also has a true zero point, where zero means the complete absence of the characteristic being measured. This allows for meaningful ratios between values. ***Example*** :- Height in centimeters, weight in kilograms, age in years. In each of these cases, a value of zero (0 cm, 0 kg, 0 years) represents the absence of height, weight, or age, making meaningful ratio comparisons possible."
   ]
  },
  {
   "cell_type": "markdown",
   "metadata": {},
   "source": [
    "***Q6.*** Why is it important to understand the level of measurement when analyzing data? Provide an\n",
    "example to illustrate your answer."
   ]
  },
  {
   "cell_type": "markdown",
   "metadata": {},
   "source": [
    "***Answer*** \n",
    "\n",
    "Understanding the level of measurement when analyzing data is crucial for several reasons:-\n",
    "\n",
    "1. It helps us to determine the right use of right statistical techniques.\n",
    "***Example*** :- For exit polls inferential statistics is used\n",
    "\n",
    "\n",
    "2. helps in Meaningfull interpretation\n",
    "***Example*** :- if u are analyzing data of customer satisfaction we will need to use Likert scale(ordinal data) for better interpretation\n",
    "\n",
    "\n",
    "4. it influences choosing the right visualization and graph.\n",
    "***Example*** :-  If you're visualizing the distribution of educational attainment (ordinal data) among survey respondents, using a bar chart with categories ordered from low to high makes sense.\n",
    "\n",
    "5. Helps in data interpretation\n",
    "***Example*** :-  If you have a dataset of product ratings on a scale from 1 to 5 (ordinal data), stating that the \"average rating is 3.7\" might mislead people into thinking it represents a precise measure when it doesn't. Instead, you should use median or mode for ordinal data."
   ]
  },
  {
   "cell_type": "markdown",
   "metadata": {},
   "source": [
    "***Q7.*** How nominal data type is different from ordinal data type."
   ]
  },
  {
   "cell_type": "markdown",
   "metadata": {},
   "source": [
    "***Answer*** \n",
    "\n",
    "In nominal data ,the data is categorized not on the basis of any inherent order or ranking while In ordinal data the data is categorized on the basis of meaningfull order or ranking."
   ]
  },
  {
   "cell_type": "markdown",
   "metadata": {},
   "source": [
    "***Q8.*** Which type of plot can be used to display data in terms of range?"
   ]
  },
  {
   "cell_type": "markdown",
   "metadata": {},
   "source": [
    "***Answer*** \n",
    "\n",
    "Box Plot is generally used to display data in terms of range."
   ]
  },
  {
   "cell_type": "markdown",
   "metadata": {},
   "source": [
    "***Q9.*** Describe the difference between descriptive and inferential statistics. Give an example of each\n",
    "type of statistics and explain how they are used."
   ]
  },
  {
   "cell_type": "markdown",
   "metadata": {},
   "source": [
    "***Answer***\n",
    "\n",
    "\n",
    "***Descriptive Statistics*** :- it consists of orgnising,collecting and analyzing the data.\n",
    "***Example*** :- calculating the average height of students of a class\n",
    "\n",
    "***Inferential Statistics*** :- it consists of using data you have measured to form conclusion.\n",
    "***Example*** :- Expecting the height of students of class based on the measured height of student of college. "
   ]
  },
  {
   "cell_type": "markdown",
   "metadata": {},
   "source": [
    "***Q10.*** What are some common measures of central tendency and variability used in statistics? Explain\n",
    "how each measure can be used to describe a dataset."
   ]
  },
  {
   "cell_type": "markdown",
   "metadata": {},
   "source": [
    "***Answer***\n",
    "\n",
    "some common measures of central tendency and variability used in statistics\n",
    "\n",
    "***1. Mean*** :- it is the average of set of data.\n",
    "\n",
    "***2. Median*** :- it is the middle value of set of data arranged in ascending or descending order.\n",
    "\n",
    "***3. Mode*** :- it is the maximum frequency of an element in set of data.\n",
    "\n",
    "***4. Variance*** :- Variance is a statistical measure that quantifies the degree of spread or dispersion in a dataset by calculating the average of the squared differences from the mean.\n",
    "\n",
    "***5. Standard Deviation*** :- Standard deviation is a statistical measure of the amount of variation or dispersion in a dataset, calculated as the square root of the variance."
   ]
  },
  {
   "cell_type": "markdown",
   "metadata": {},
   "source": []
  }
 ],
 "metadata": {
  "language_info": {
   "name": "python"
  },
  "orig_nbformat": 4
 },
 "nbformat": 4,
 "nbformat_minor": 2
}
