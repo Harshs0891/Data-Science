{
 "cells": [
  {
   "cell_type": "markdown",
   "metadata": {},
   "source": [
    "QUESTION - 1"
   ]
  },
  {
   "cell_type": "markdown",
   "metadata": {},
   "source": [
    "Flask is a leighweight and popular web framework used to build web applications int python.\n",
    "Advantages of Flask :-\n",
    "1. Simplicity\n",
    "2. Flexibility\n",
    "3. Lightweight\n",
    "4. Easy to learn\n",
    "5. URL routing\n",
    "6. Modularity"
   ]
  },
  {
   "cell_type": "markdown",
   "metadata": {},
   "source": [
    "QUESTION - 2"
   ]
  },
  {
   "cell_type": "code",
   "execution_count": 2,
   "metadata": {},
   "outputs": [],
   "source": [
    "from flask import Flask\n",
    "app = Flask(__name__)\n",
    "\n",
    "@app.route(\"/\")\n",
    "def hello():\n",
    "    print(\"Hello World!\")\n",
    "\n",
    "if __name__ == \"main\" :\n",
    "    app.run(host = \"0.0.0.0\")"
   ]
  },
  {
   "cell_type": "markdown",
   "metadata": {},
   "source": [
    "QUESTION - 3"
   ]
  },
  {
   "cell_type": "markdown",
   "metadata": {},
   "source": [
    "App routing in flask refers to the process of mapping URLs to specific view functions within flask application. It allows you to define how different URLs will be handled by your application and which functions will be executed to generate the corresponding responses.\n",
    "We use app routing for organinsing the URLs ,modularity,dynamic content,RESTful APIs, cleaner code,etc."
   ]
  },
  {
   "cell_type": "markdown",
   "metadata": {},
   "source": [
    "QUESTION - 4"
   ]
  },
  {
   "cell_type": "code",
   "execution_count": 3,
   "metadata": {},
   "outputs": [],
   "source": [
    "from flask import Flask\n",
    "app = Flask(__name__)\n",
    "\n",
    "@app.route(\"/\")\n",
    "def hello():\n",
    "    print(\"Company Name : ABC Corporation\")\n",
    "    print(\"Location : India\")\n",
    "    print(\"Contact-Details : 999-999-9999\")\n",
    "\n",
    "@app.route(\"/welcome\")\n",
    "def wel():\n",
    "    print(\"Welcome to ABC Corporation\")\n",
    "\n",
    "if __name__ == \"main\" :\n",
    "    app.run(host = \"0.0.0.0\")"
   ]
  },
  {
   "cell_type": "markdown",
   "metadata": {},
   "source": [
    "QUESTION - 5"
   ]
  },
  {
   "cell_type": "markdown",
   "metadata": {},
   "source": [
    "In Flask, 'url_for()' function is used for URL building.It helps generate URLs for specific routes in your application by using the route's endpoint name as an argument.\n",
    "Example :-"
   ]
  },
  {
   "cell_type": "code",
   "execution_count": null,
   "metadata": {},
   "outputs": [],
   "source": [
    "from flask import Flask\n",
    "app = Flask(__name__)\n",
    "\n",
    "@app.route(\"/\")\n",
    "def hello():\n",
    "    print(\"Hello World!\")\n",
    "\n",
    "if __name__ == \"main\" :\n",
    "    app.run(host = \"0.0.0.0\")"
   ]
  },
  {
   "cell_type": "markdown",
   "metadata": {},
   "source": []
  }
 ],
 "metadata": {
  "kernelspec": {
   "display_name": "Python 3",
   "language": "python",
   "name": "python3"
  },
  "language_info": {
   "codemirror_mode": {
    "name": "ipython",
    "version": 3
   },
   "file_extension": ".py",
   "mimetype": "text/x-python",
   "name": "python",
   "nbconvert_exporter": "python",
   "pygments_lexer": "ipython3",
   "version": "3.11.4"
  },
  "orig_nbformat": 4
 },
 "nbformat": 4,
 "nbformat_minor": 2
}
