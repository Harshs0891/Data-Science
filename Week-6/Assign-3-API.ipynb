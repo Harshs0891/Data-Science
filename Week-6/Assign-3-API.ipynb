{
 "cells": [
  {
   "cell_type": "markdown",
   "metadata": {},
   "source": [
    "QUESTION - 1"
   ]
  },
  {
   "cell_type": "markdown",
   "metadata": {},
   "source": [
    "API stands for application programming interface. it is a way through which different applications interact with each other.\n",
    "Ex:-when we search for any video on youtube the youtube fetch data from their database using API and provide us the required data."
   ]
  },
  {
   "cell_type": "markdown",
   "metadata": {},
   "source": [
    "QUESTION - 2"
   ]
  },
  {
   "cell_type": "markdown",
   "metadata": {},
   "source": [
    "Advantages of API :-"
   ]
  },
  {
   "cell_type": "markdown",
   "metadata": {},
   "source": [
    "1. Modularity and Reusability\n",
    "2. Rapid Development\n",
    "3. Scalability\n",
    "4. Innovation\n",
    "5. Security\n",
    "6. Easy maintenance"
   ]
  },
  {
   "cell_type": "markdown",
   "metadata": {},
   "source": [
    "Disadvantages of API:-"
   ]
  },
  {
   "cell_type": "markdown",
   "metadata": {},
   "source": [
    "1. Complexity in creation\n",
    "2. Performance overhead\n",
    "3. Limited Control\n",
    "4. Security Concern\n",
    "5. Versioning and compatibility"
   ]
  },
  {
   "cell_type": "markdown",
   "metadata": {},
   "source": [
    "QUESTION - 3"
   ]
  },
  {
   "cell_type": "markdown",
   "metadata": {},
   "source": [
    "A Web API (Web Application Programming Interface) is a type of API that allows different software applications to communicate and interact with each other over the internet using standard web protocols\n",
    "The term \"API\" refers to a broader concept that encompasses any set of rules and protocols that allow different software components to communicate with each other.\n"
   ]
  },
  {
   "cell_type": "markdown",
   "metadata": {},
   "source": [
    "QUESTION - 4"
   ]
  },
  {
   "cell_type": "markdown",
   "metadata": {},
   "source": [
    "It stands for REpresentational State Transfer.REST is an architectural style that defines a set of constraints and principles for designing networked applications. It is commonly used in web services and APIs to facilitate communication between different systems.\n",
    "SOAP stands for Simple Object Access Protocol.SOAP is a protocol for exchanging structured information in the implementation of web services. Unlike REST, which is an architectural style, SOAP is a protocol that defines a specific set of rules for structuring messages and handling communication between applications. \n",
    "\n",
    "Shortcomings of SOAP:-\n",
    "1. complexity\n",
    "2. Platform independent\n",
    "3. Limited Browser Supply\n",
    "4. Performance"
   ]
  },
  {
   "cell_type": "markdown",
   "metadata": {},
   "source": [
    "QUESTION - 5"
   ]
  },
  {
   "cell_type": "markdown",
   "metadata": {},
   "source": [
    "REST:- REpresentational State Transfer.it defines statelessness and uses standard HTTP protocol for communication.\n",
    "REST uses lightweight formats like JSON or XML for message exchange.\n",
    "SOAP :- simple object access protocol.it emphasises on strict set of rules for structuring messages. SOAP messages are always XML-based, which can make them more complex and larger in size."
   ]
  }
 ],
 "metadata": {
  "language_info": {
   "name": "python"
  },
  "orig_nbformat": 4
 },
 "nbformat": 4,
 "nbformat_minor": 2
}
