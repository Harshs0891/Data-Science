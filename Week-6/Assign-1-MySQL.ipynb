{
 "cells": [
  {
   "cell_type": "markdown",
   "metadata": {},
   "source": [
    "QUESTION - 1"
   ]
  },
  {
   "cell_type": "markdown",
   "metadata": {},
   "source": [
    "a database is an organized collection of structured information or data stored in computer system.SQL stands for structured query language where NoSQL stands for non structured query language.sql required structure predefined schema to store the data where in NoSQL no such schema is compulsory to be predefined"
   ]
  },
  {
   "cell_type": "markdown",
   "metadata": {},
   "source": [
    "QUESTION - 2"
   ]
  },
  {
   "cell_type": "markdown",
   "metadata": {},
   "source": [
    "DDL stands for Data Definition Language.it is used to define and manage the structure of data and its objects.\n",
    "\n",
    "1.CREATE:- it is used to create database \n",
    "EX:- Create database test;\n",
    "\n",
    "2. DROP :- it is used to delete or drop database or table.\n",
    "Ex:- DROP table table_name\n",
    "\n",
    "3. ALTER:- it is used to make some changes in previous data.\n",
    "Ex:-ALTER TABLE table_name\n",
    "    ADD column_name datatype;\n",
    "\n",
    "4. TRUNCATE:- Used to quickly remove all rows from a table while keeping the table structure intact.\n",
    "Ex:- TRUNCATE TABLE table_name;"
   ]
  },
  {
   "cell_type": "markdown",
   "metadata": {},
   "source": [
    "QUESTION - 3"
   ]
  },
  {
   "cell_type": "markdown",
   "metadata": {},
   "source": [
    "DML stands for Data Manipulation Language it is used to retreive and manipulate the data within the database.\n",
    "\n",
    "INSERT:- it is used to insert data in the database either table or values.\n",
    "Ex:- Insert into table_name(col1,col2,..) values(value1,value2,..)\n",
    "\n",
    "UPDATE :- it is used to update a part of table or modify the table.\n",
    "Ex:- update table_name\n",
    "    SET col_name=value1 \n",
    "    where condition;\n",
    "\n",
    "DELETE:- it is used to delete data from database.\n",
    "Ex :- DELETE FROM table_name\n",
    "    WHERE Condition"
   ]
  },
  {
   "cell_type": "markdown",
   "metadata": {},
   "source": [
    "QUESTION - 4"
   ]
  },
  {
   "cell_type": "markdown",
   "metadata": {},
   "source": [
    "DQL stands for Data Query Language.It is used to retreive and query data from database.\n",
    "\n",
    "SELECT:- it is used to retrieve or get data from the database\n",
    "Ex:- \n",
    "1. To get all data\n",
    "Select* from table_name\n",
    "2. To get specific column data\n",
    "Select col_name from table_name"
   ]
  },
  {
   "cell_type": "markdown",
   "metadata": {},
   "source": [
    "QUESTION - 5"
   ]
  },
  {
   "cell_type": "markdown",
   "metadata": {},
   "source": [
    "Primary Key:- this is the unique value in a row which uniquely identifies a specific data.\n",
    "\n",
    "Foreign key:- this key is used to maintain the integrity of tables and is used to join the table."
   ]
  },
  {
   "cell_type": "markdown",
   "metadata": {},
   "source": [
    "QUESTION - 6"
   ]
  },
  {
   "cell_type": "code",
   "execution_count": 2,
   "metadata": {},
   "outputs": [],
   "source": [
    "import mysql.connector\n",
    "\n",
    "mydb = mysql.connector.connect(\n",
    "    host=\"localhost\",\n",
    "    user=\"abc\",\n",
    "    password=\"password\"\n",
    ")\n",
    "\n",
    "mycursor = mydb.cursor()"
   ]
  },
  {
   "cell_type": "markdown",
   "metadata": {},
   "source": [
    "QUESTION - 7"
   ]
  },
  {
   "cell_type": "markdown",
   "metadata": {},
   "source": [
    "SQL Query execution order:-\n",
    "1. FROM\n",
    "2. WHERE\n",
    "3. GROUP BY\n",
    "4. HAVING\n",
    "5. SELECT\n",
    "6. ORDER BY\n",
    "7. LIMIT"
   ]
  },
  {
   "cell_type": "markdown",
   "metadata": {},
   "source": []
  }
 ],
 "metadata": {
  "kernelspec": {
   "display_name": "Python 3",
   "language": "python",
   "name": "python3"
  },
  "language_info": {
   "codemirror_mode": {
    "name": "ipython",
    "version": 3
   },
   "file_extension": ".py",
   "mimetype": "text/x-python",
   "name": "python",
   "nbconvert_exporter": "python",
   "pygments_lexer": "ipython3",
   "version": "3.11.4"
  },
  "orig_nbformat": 4
 },
 "nbformat": 4,
 "nbformat_minor": 2
}
