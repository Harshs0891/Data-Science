{
 "cells": [
  {
   "cell_type": "markdown",
   "metadata": {},
   "source": [
    "QUESTION - 1"
   ]
  },
  {
   "cell_type": "markdown",
   "metadata": {},
   "source": [
    "MongoDB is a popular open source NoSQL database management system, that falls under the category of non relational databases.\n",
    "\n",
    "Non-relational databases, often referred to as NoSQL databases, are databases that don't use the traditional relational data model. \n",
    "\n",
    "it provides the feature of flexible schema i.e it doesn't strictly follow a specific schema"
   ]
  },
  {
   "cell_type": "markdown",
   "metadata": {},
   "source": [
    "QUESTION - 2"
   ]
  },
  {
   "cell_type": "markdown",
   "metadata": {},
   "source": [
    "Features of MongoDB:-\n",
    "Flexible schema :- it is flexible in storing data on the basis of key-value only.\n",
    "Dynamic Queries:-MongoDB supports dynamic queries using a rich query language\n",
    "Indexes:- it provides a feature of indexing the documents\n",
    "High Availabilty:-ensure high availabilty and data reusabilty."
   ]
  },
  {
   "cell_type": "markdown",
   "metadata": {},
   "source": [
    "QUESTION - 3"
   ]
  },
  {
   "cell_type": "code",
   "execution_count": 1,
   "metadata": {},
   "outputs": [],
   "source": [
    "import pymongo\n",
    "client = pymongo.MongoClient(\"URL\")\n",
    "db=client.test"
   ]
  },
  {
   "cell_type": "code",
   "execution_count": 2,
   "metadata": {},
   "outputs": [],
   "source": [
    "db = client['assignment']"
   ]
  },
  {
   "cell_type": "code",
   "execution_count": 3,
   "metadata": {},
   "outputs": [],
   "source": [
    "data={\n",
    "    \"name\":\"harsh\",\n",
    "    \"subject\":\"data science\",\n",
    "    \"college\":\"pwskills\"\n",
    "}"
   ]
  },
  {
   "cell_type": "code",
   "execution_count": 4,
   "metadata": {},
   "outputs": [],
   "source": [
    "collection_assign = db['my_info']"
   ]
  },
  {
   "cell_type": "markdown",
   "metadata": {},
   "source": [
    "QUESTION - 4"
   ]
  },
  {
   "cell_type": "code",
   "execution_count": 5,
   "metadata": {},
   "outputs": [
    {
     "data": {
      "text/plain": [
       "<pymongo.results.InsertOneResult at 0x23d4b337a60>"
      ]
     },
     "execution_count": 5,
     "metadata": {},
     "output_type": "execute_result"
    }
   ],
   "source": [
    "collection_assign.insert_one(data)"
   ]
  },
  {
   "cell_type": "code",
   "execution_count": 8,
   "metadata": {},
   "outputs": [
    {
     "name": "stdout",
     "output_type": "stream",
     "text": [
      "{'_id': ObjectId('64d72955ba3637d60e3a5ef9'), 'name': 'harsh', 'subject': 'data science', 'college': 'pwskills'}\n"
     ]
    }
   ],
   "source": [
    "for i in collection_assign.find():\n",
    "    print(i)"
   ]
  },
  {
   "cell_type": "code",
   "execution_count": 9,
   "metadata": {},
   "outputs": [
    {
     "data": {
      "text/plain": [
       "{'_id': ObjectId('64d72955ba3637d60e3a5ef9'),\n",
       " 'name': 'harsh',\n",
       " 'subject': 'data science',\n",
       " 'college': 'pwskills'}"
      ]
     },
     "execution_count": 9,
     "metadata": {},
     "output_type": "execute_result"
    }
   ],
   "source": [
    "collection_assign.find_one()"
   ]
  },
  {
   "cell_type": "markdown",
   "metadata": {},
   "source": [
    "Question - 5"
   ]
  },
  {
   "cell_type": "markdown",
   "metadata": {},
   "source": [
    "find() method can be used to find all data or data based on specific constraints.\n",
    "Ex:- \n",
    "collection_assign.find() :- it will give all the data present in the collection\n",
    "\n",
    "collection.assign.find({\"name\"=\"harsh\"}):- it will find the data with name=\"harsh\""
   ]
  },
  {
   "cell_type": "markdown",
   "metadata": {},
   "source": [
    "QUESTION - 6"
   ]
  },
  {
   "cell_type": "markdown",
   "metadata": {},
   "source": [
    "the sort() method is used to sort the results of a query in ascending or descending order based on one or more fields in the documents.\n",
    "\n",
    "Syntax:- collection_assign.find(query, projection).sort(sortSpecification)\n",
    "\n"
   ]
  },
  {
   "cell_type": "code",
   "execution_count": null,
   "metadata": {},
   "outputs": [],
   "source": [
    "#EXAMPLE\n",
    "collection_assign.find().sort({id:-1})\n",
    "\n",
    "#-1 indicates sorting in descending order"
   ]
  },
  {
   "cell_type": "markdown",
   "metadata": {},
   "source": [
    "QUESTION - 7"
   ]
  },
  {
   "cell_type": "markdown",
   "metadata": {},
   "source": [
    "delete_one() :- it is used to delete a single document based on the unique field provided inside the delete_one() parameter.\n",
    "\n",
    "delete_many() :- it is used to delete more than one document which are filtered by the user.\n",
    "\n",
    "drop() :- it is used to drop or delete an entire collection."
   ]
  },
  {
   "cell_type": "markdown",
   "metadata": {},
   "source": []
  }
 ],
 "metadata": {
  "kernelspec": {
   "display_name": "Python 3",
   "language": "python",
   "name": "python3"
  },
  "language_info": {
   "codemirror_mode": {
    "name": "ipython",
    "version": 3
   },
   "file_extension": ".py",
   "mimetype": "text/x-python",
   "name": "python",
   "nbconvert_exporter": "python",
   "pygments_lexer": "ipython3",
   "version": "3.11.4"
  },
  "orig_nbformat": 4
 },
 "nbformat": 4,
 "nbformat_minor": 2
}
