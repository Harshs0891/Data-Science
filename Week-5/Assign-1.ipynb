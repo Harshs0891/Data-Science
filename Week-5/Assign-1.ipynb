{
 "cells": [
  {
   "cell_type": "markdown",
   "metadata": {},
   "source": [
    "QUESTION - 1"
   ]
  },
  {
   "cell_type": "markdown",
   "metadata": {},
   "source": [
    "an exception is a deliberate act of omission.\n",
    "error occur at compile time and run time which can terminate the compilation or execution.Exceptions occur only at run time just that checked exceptions can be detected at compile time."
   ]
  },
  {
   "cell_type": "markdown",
   "metadata": {},
   "source": [
    "QUESTION - 2"
   ]
  },
  {
   "cell_type": "markdown",
   "metadata": {},
   "source": [
    "when an exception is not handled it gives exception by system and stop the further execution of program."
   ]
  },
  {
   "cell_type": "code",
   "execution_count": 1,
   "metadata": {},
   "outputs": [
    {
     "ename": "ZeroDivisionError",
     "evalue": "division by zero",
     "output_type": "error",
     "traceback": [
      "\u001b[1;31m---------------------------------------------------------------------------\u001b[0m",
      "\u001b[1;31mZeroDivisionError\u001b[0m                         Traceback (most recent call last)",
      "Cell \u001b[1;32mIn[1], line 1\u001b[0m\n\u001b[1;32m----> 1\u001b[0m a\u001b[39m=\u001b[39m \u001b[39m10\u001b[39;49m\u001b[39m/\u001b[39;49m\u001b[39m0\u001b[39;49m\n\u001b[0;32m      2\u001b[0m a\n",
      "\u001b[1;31mZeroDivisionError\u001b[0m: division by zero"
     ]
    }
   ],
   "source": [
    "a= 10/0\n",
    "a"
   ]
  },
  {
   "cell_type": "code",
   "execution_count": 3,
   "metadata": {},
   "outputs": [
    {
     "name": "stdout",
     "output_type": "stream",
     "text": [
      "This exception is due to  division by zero\n"
     ]
    }
   ],
   "source": [
    "try:\n",
    "    a=10/0\n",
    "except Exception as e:\n",
    "    print(\"This exception is due to \",e)"
   ]
  },
  {
   "cell_type": "markdown",
   "metadata": {},
   "source": [
    "QUESTION - 3"
   ]
  },
  {
   "cell_type": "markdown",
   "metadata": {},
   "source": [
    "following python keywords are used to handle exceptions :-\n",
    "1. try\n",
    "2. except\n",
    "3. finally\n",
    "4. else\n",
    "\n",
    "Examples :-"
   ]
  },
  {
   "cell_type": "code",
   "execution_count": 5,
   "metadata": {},
   "outputs": [
    {
     "name": "stdout",
     "output_type": "stream",
     "text": [
      "this error is due to  division by zero\n",
      "Above exception is handled\n"
     ]
    }
   ],
   "source": [
    "try:\n",
    "    a=10/0\n",
    "except ZeroDivisionError as e:\n",
    "    print(\"this error is due to \",e)\n",
    "else :\n",
    "    print(\"this would run if there is no exception\")\n",
    "finally:\n",
    "    print(\"Above exception is handled\")\n"
   ]
  },
  {
   "cell_type": "markdown",
   "metadata": {},
   "source": [
    "QUESTION - 4"
   ]
  },
  {
   "cell_type": "markdown",
   "metadata": {},
   "source": [
    "A. try and else try is used to contain the code which may have exception and else is used for the code which have to run when there is no any exception in the try block\n",
    "\n",
    "B.finally :- this block contains the code which executes no matter there is any exception or not\n",
    "\n",
    "C. raise : this keyword is used to create custom exception"
   ]
  },
  {
   "cell_type": "code",
   "execution_count": 6,
   "metadata": {},
   "outputs": [
    {
     "name": "stdout",
     "output_type": "stream",
     "text": [
      "division by zero\n",
      "this will execute every time\n"
     ]
    }
   ],
   "source": [
    "try :\n",
    "    a=10/0\n",
    "except Exception as e:\n",
    "    print(e)\n",
    "else :\n",
    "    print(\"there is no exception in the try block\")\n",
    "finally :\n",
    "    print(\"this will execute every time\")\n"
   ]
  },
  {
   "cell_type": "code",
   "execution_count": 9,
   "metadata": {},
   "outputs": [],
   "source": [
    "# raise \n",
    "# age = int(34)\n",
    "class Valerr(Exception):\n",
    "    def __init__(self,age):\n",
    "        self.age=age"
   ]
  },
  {
   "cell_type": "code",
   "execution_count": 10,
   "metadata": {},
   "outputs": [],
   "source": [
    "def validateAge(age):\n",
    "    if age>18:\n",
    "        raise Valerr(\"You are eligible to vote\")\n",
    "    else :\n",
    "        raise Valerr(\"You cannot vote\")"
   ]
  },
  {
   "cell_type": "code",
   "execution_count": 13,
   "metadata": {},
   "outputs": [
    {
     "name": "stdout",
     "output_type": "stream",
     "text": [
      "Your age is  12\n",
      "You cannot vote\n"
     ]
    }
   ],
   "source": [
    "try:\n",
    "    age=int(input(\"Enter your age\"))\n",
    "    print(\"Your age is \",age)\n",
    "    validateAge(age)\n",
    "except Valerr as e:\n",
    "    print(e)"
   ]
  },
  {
   "cell_type": "markdown",
   "metadata": {},
   "source": [
    "The exceptions which are declared by user for custom operation are called custom exceptions\n",
    "\n",
    "these are used to handle some specific exceptions that are known to the programmer.\n",
    "Example:-"
   ]
  },
  {
   "cell_type": "code",
   "execution_count": 14,
   "metadata": {},
   "outputs": [],
   "source": [
    "class Valerr(Exception):\n",
    "    def __init__(self,age):\n",
    "        self.age=age"
   ]
  },
  {
   "cell_type": "code",
   "execution_count": 15,
   "metadata": {},
   "outputs": [],
   "source": [
    "def validateAge(age):\n",
    "    if age>18:\n",
    "        raise Valerr(\"You are eligible to vote\")\n",
    "    else :\n",
    "        raise Valerr(\"You cannot vote\")"
   ]
  },
  {
   "cell_type": "code",
   "execution_count": 16,
   "metadata": {},
   "outputs": [
    {
     "name": "stdout",
     "output_type": "stream",
     "text": [
      "Your age is  19\n",
      "You are eligible to vote\n"
     ]
    }
   ],
   "source": [
    "try:\n",
    "    age=int(input(\"Enter your age\"))\n",
    "    print(\"Your age is \",age)\n",
    "    validateAge(age)\n",
    "except Valerr as e:\n",
    "    print(e)"
   ]
  },
  {
   "cell_type": "markdown",
   "metadata": {},
   "source": [
    "QUESTION - 6"
   ]
  },
  {
   "cell_type": "code",
   "execution_count": 17,
   "metadata": {},
   "outputs": [],
   "source": [
    "class exc(Exception):\n",
    "    def __init__(self,height):\n",
    "        self.height=height"
   ]
  },
  {
   "cell_type": "code",
   "execution_count": 18,
   "metadata": {},
   "outputs": [],
   "source": [
    "def checkHeight(height):\n",
    "    if height < 160:\n",
    "        raise exc(\"Your height is in or below average category\")\n",
    "    else :\n",
    "        raise exc(\"You have good height\")"
   ]
  },
  {
   "cell_type": "code",
   "execution_count": 20,
   "metadata": {},
   "outputs": [
    {
     "name": "stdout",
     "output_type": "stream",
     "text": [
      "Your height is in or below average category\n"
     ]
    }
   ],
   "source": [
    "try:\n",
    "    height = int(input(\"Enter height in cm \"))\n",
    "    checkHeight(height)\n",
    "except exc as e:\n",
    "    print(e)\n"
   ]
  },
  {
   "cell_type": "code",
   "execution_count": null,
   "metadata": {},
   "outputs": [],
   "source": []
  }
 ],
 "metadata": {
  "kernelspec": {
   "display_name": "Python 3",
   "language": "python",
   "name": "python3"
  },
  "language_info": {
   "codemirror_mode": {
    "name": "ipython",
    "version": 3
   },
   "file_extension": ".py",
   "mimetype": "text/x-python",
   "name": "python",
   "nbconvert_exporter": "python",
   "pygments_lexer": "ipython3",
   "version": "3.11.4"
  },
  "orig_nbformat": 4
 },
 "nbformat": 4,
 "nbformat_minor": 2
}
