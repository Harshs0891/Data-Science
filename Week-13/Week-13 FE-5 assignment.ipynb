{
 "cells": [
  {
   "cell_type": "markdown",
   "metadata": {},
   "source": [
    "***Q1.***  Pearson correlation coefficient is a measure of the linear relationship between two variables. Suppose\n",
    "you have collected data on the amount of time students spend studying for an exam and their final exam\n",
    "scores. Calculate the Pearson correlation coefficient between these two variables and interpret the result."
   ]
  },
  {
   "cell_type": "markdown",
   "metadata": {},
   "source": [
    "The pearson correlation coefficient between these two variables is 1 because one variable is dependent on another variable more the student will spend time studying the more marks he/she will scores."
   ]
  },
  {
   "cell_type": "markdown",
   "metadata": {},
   "source": [
    "***Q2.***  Spearman's rank correlation is a measure of the monotonic relationship between two variables.\n",
    "Suppose you have collected data on the amount of sleep individuals get each night and their overall job\n",
    "satisfaction level on a scale of 1 to 10. Calculate the Spearman's rank correlation between these two\n",
    "variables and interpret the result."
   ]
  },
  {
   "cell_type": "markdown",
   "metadata": {},
   "source": [
    "Spearman's rank correlation (\\(\\rho\\)) is a non-parametric measure of the monotonic relationship between two variables. It assesses whether the variables tend to increase or decrease together, not necessarily at a constant rate. The correlation coefficient ranges from -1 to 1, where:\n",
    "\n",
    "- \\(\\rho = 1\\) indicates a perfect positive monotonic relationship (as one variable increases, the other also increases monotonically).\n",
    "- \\(\\rho = -1\\) indicates a perfect negative monotonic relationship (as one variable increases, the other decreases monotonically).\n",
    "- \\(\\rho = 0\\) indicates no monotonic correlation between the variables.\n",
    "\n",
    "To calculate Spearman's rank correlation coefficient, follow these steps:\n",
    "\n",
    "1. **Rank the data**: Rank the values for each variable independently from 1 to \\(n\\), where \\(n\\) is the number of data points, with 1 being assigned to the smallest value.\n",
    "\n",
    "2. **Calculate the differences between ranks**: For each pair of corresponding ranks for the two variables, calculate the difference in ranks (\\(d\\)).\n",
    "\n",
    "3. **Square the differences**: Square each of the rank differences (\\(d^2\\)).\n",
    "\n",
    "4. **Sum the squared rank differences**: Sum all the squared rank differences (\\(\\Sigma d^2\\)).\n",
    "\n",
    "5. **Calculate Spearman's rank correlation coefficient (\\(\\rho\\))**: Use the formula:\n",
    "\n",
    "\\[ \\rho = 1 - {6*Sigma d^2}/{n(n^2 - 1)} \\]\n",
    "\n",
    "Where \\(n\\) is the number of data points.\n",
    "\n",
    "Interpretation:\n",
    "- If \\(\\rho > 0\\): There is a positive monotonic relationship between the amount of sleep and job satisfaction. As the amount of sleep increases, job satisfaction tends to increase monotonically.\n",
    "- If \\(\\rho < 0\\): There is a negative monotonic relationship between the amount of sleep and job satisfaction. As the amount of sleep increases, job satisfaction tends to decrease monotonically.\n",
    "- If \\(\\rho = 0\\): There is no monotonic correlation between the amount of sleep and job satisfaction.\n",
    "\n",
    "The value of \\(\\rho\\) will give you insights into the strength and direction of the monotonic relationship between the two variables, helping you understand how changes in one variable are associated with changes in the other variable in a non-linear fashion."
   ]
  },
  {
   "cell_type": "markdown",
   "metadata": {},
   "source": [
    "***Q3.*** Suppose you are conducting a study to examine the relationship between the number of hours of\n",
    "exercise per week and body mass index (BMI) in a sample of adults. You collected data on both variables\n",
    "for 50 participants. Calculate the Pearson correlation coefficient and the Spearman's rank correlation\n",
    "between these two variables and compare the results."
   ]
  },
  {
   "cell_type": "markdown",
   "metadata": {},
   "source": [
    "To calculate both the Pearson correlation coefficient and Spearman's rank correlation, you'll first need to have the data on the number of hours of exercise per week and the body mass index (BMI) for the 50 participants. Once you have the data, you can compute the correlation coefficients using the appropriate formulas.\n",
    "\n",
    "### Pearson Correlation Coefficient (\\(r\\)):\n",
    "The formula for the Pearson correlation coefficient between two variables \\(X\\) and \\(Y\\) with data points \\((x_i, y_i)\\) is:\n",
    "\n",
    "\\[ r = {\\sum{(x_i - \\bar{X})(y_i - \\bar{Y})}} / {\\sqrt{\\sum{(x_i - \\bar{X})^2} \\sum{(y_i - \\bar{Y})^2}}} \\]\n",
    "\n",
    "Where \\(\\bar{X}\\) and \\(\\bar{Y}\\) are the means of \\(X\\) and \\(Y\\) respectively, and \\(n\\) is the number of data points.\n",
    "\n",
    "### Spearman's Rank Correlation (\\(\\rho\\)):\n",
    "Spearman's rank correlation is calculated based on the ranks of the data points for both variables. The formula for Spearman's rank correlation coefficient is:\n",
    "\n",
    "\\[ \\rho = 1 - {6\\sum{d_i^2}} / {n(n^2 - 1)} \\]\n",
    "\n",
    "Where \\(d_i\\) is the difference between the ranks of corresponding data points, and \\(n\\) is the number of data points.\n",
    "\n",
    "After calculating both correlation coefficients, you can interpret the results. If both coefficients are similar in magnitude and sign, it suggests a strong and linear relationship between the variables. If the Pearson correlation is high but the Spearman's rank correlation is lower, it might indicate a nonlinear relationship.\n",
    "\n",
    "Keep in mind that correlation does not imply causation. A correlation between exercise hours and BMI might suggest a relationship, but it does not prove that one variable causes changes in the other. Consider the context of your study and consult with a statistician if you need to draw meaningful conclusions from the correlation coefficients."
   ]
  },
  {
   "cell_type": "markdown",
   "metadata": {},
   "source": [
    "***Q4.*** A researcher is interested in examining the relationship between the number of hours individuals\n",
    "spend watching television per day and their level of physical activity. The researcher collected data on\n",
    "both variables from a sample of 50 participants. Calculate the Pearson correlation coefficient between\n",
    "these two variables."
   ]
  },
  {
   "cell_type": "markdown",
   "metadata": {},
   "source": [
    "If a person spends more time on tv its more obvious that he/she will spend less time in physical activity.this means the pearson correlation coefficient between these two variables is less than 0."
   ]
  },
  {
   "cell_type": "markdown",
   "metadata": {},
   "source": [
    "***Q5.*** A survey was conducted to examine the relationship between age and preference for a particular\n",
    "brand of soft drink. The survey results are shown below:"
   ]
  },
  {
   "cell_type": "code",
   "execution_count": 1,
   "metadata": {},
   "outputs": [
    {
     "data": {
      "text/html": [
       "<div>\n",
       "<style scoped>\n",
       "    .dataframe tbody tr th:only-of-type {\n",
       "        vertical-align: middle;\n",
       "    }\n",
       "\n",
       "    .dataframe tbody tr th {\n",
       "        vertical-align: top;\n",
       "    }\n",
       "\n",
       "    .dataframe thead th {\n",
       "        text-align: right;\n",
       "    }\n",
       "</style>\n",
       "<table border=\"1\" class=\"dataframe\">\n",
       "  <thead>\n",
       "    <tr style=\"text-align: right;\">\n",
       "      <th></th>\n",
       "      <th>age</th>\n",
       "      <th>soft_drink_pref</th>\n",
       "    </tr>\n",
       "  </thead>\n",
       "  <tbody>\n",
       "    <tr>\n",
       "      <th>0</th>\n",
       "      <td>25</td>\n",
       "      <td>coke</td>\n",
       "    </tr>\n",
       "    <tr>\n",
       "      <th>1</th>\n",
       "      <td>42</td>\n",
       "      <td>pepsi</td>\n",
       "    </tr>\n",
       "    <tr>\n",
       "      <th>2</th>\n",
       "      <td>37</td>\n",
       "      <td>mountain dew</td>\n",
       "    </tr>\n",
       "    <tr>\n",
       "      <th>3</th>\n",
       "      <td>19</td>\n",
       "      <td>coke</td>\n",
       "    </tr>\n",
       "    <tr>\n",
       "      <th>4</th>\n",
       "      <td>31</td>\n",
       "      <td>pepsi</td>\n",
       "    </tr>\n",
       "    <tr>\n",
       "      <th>5</th>\n",
       "      <td>28</td>\n",
       "      <td>coke</td>\n",
       "    </tr>\n",
       "  </tbody>\n",
       "</table>\n",
       "</div>"
      ],
      "text/plain": [
       "   age soft_drink_pref\n",
       "0   25            coke\n",
       "1   42           pepsi\n",
       "2   37    mountain dew\n",
       "3   19            coke\n",
       "4   31           pepsi\n",
       "5   28            coke"
      ]
     },
     "execution_count": 1,
     "metadata": {},
     "output_type": "execute_result"
    }
   ],
   "source": [
    "import pandas as pd\n",
    "df=pd.DataFrame({\n",
    "    'age':[25,42,37,19,31,28],\n",
    "    'soft_drink_pref':['coke','pepsi','mountain dew','coke','pepsi','coke']\n",
    "})\n",
    "df"
   ]
  },
  {
   "cell_type": "code",
   "execution_count": 2,
   "metadata": {},
   "outputs": [
    {
     "name": "stdout",
     "output_type": "stream",
     "text": [
      "Pearson Correlation Coefficient: 0.7587035441865058\n",
      "Spearman's Rank Correlation Coefficient: 0.8332380897952965\n"
     ]
    }
   ],
   "source": [
    "import numpy as np\n",
    "from scipy.stats import spearmanr\n",
    "\n",
    "# Provided data\n",
    "data = {\n",
    "    'age': [25, 42, 37, 19, 31, 28],\n",
    "    'soft_drink_pref': ['coke', 'pepsi', 'mountain dew', 'coke', 'pepsi', 'coke']\n",
    "}\n",
    "\n",
    "# Encoding soft drink preferences\n",
    "preference_mapping = {'coke': 1, 'pepsi': 2, 'mountain dew': 3}\n",
    "encoded_preferences = [preference_mapping[drink] for drink in data['soft_drink_pref']]\n",
    "\n",
    "# Calculating Pearson correlation coefficient\n",
    "pearson_corr = np.corrcoef(data['age'], encoded_preferences)[0, 1]\n",
    "\n",
    "# Calculating Spearman's rank correlation coefficient\n",
    "spearman_corr, _ = spearmanr(data['age'], encoded_preferences)\n",
    "\n",
    "print(\"Pearson Correlation Coefficient:\", pearson_corr)\n",
    "print(\"Spearman's Rank Correlation Coefficient:\", spearman_corr)\n"
   ]
  },
  {
   "cell_type": "markdown",
   "metadata": {},
   "source": [
    "***Q6.***  A company is interested in examining the relationship between the number of sales calls made per day\n",
    "and the number of sales made per week. The company collected data on both variables from a sample of\n",
    "30 sales representatives. Calculate the Pearson correlation coefficient between these two variables."
   ]
  },
  {
   "cell_type": "markdown",
   "metadata": {},
   "source": [
    "import numpy as np\n",
    "\n",
    "***Sample data: number of sales calls made per day and number of sales made per week***\n",
    "\n",
    "\n",
    "sales_calls_per_day = [/* data points */]\n",
    "sales_made_per_week = [/* data points */]\n",
    "\n",
    "***Calculate the Pearson correlation coefficient***\n",
    "\n",
    "\n",
    "pearson_corr = np.corrcoef(sales_calls_per_day, sales_made_per_week)[0, 1]\n",
    "\n",
    "print(\"Pearson Correlation Coefficient:\", pearson_corr)\n"
   ]
  }
 ],
 "metadata": {
  "kernelspec": {
   "display_name": "Python 3",
   "language": "python",
   "name": "python3"
  },
  "language_info": {
   "codemirror_mode": {
    "name": "ipython",
    "version": 3
   },
   "file_extension": ".py",
   "mimetype": "text/x-python",
   "name": "python",
   "nbconvert_exporter": "python",
   "pygments_lexer": "ipython3",
   "version": "3.11.4"
  }
 },
 "nbformat": 4,
 "nbformat_minor": 2
}
