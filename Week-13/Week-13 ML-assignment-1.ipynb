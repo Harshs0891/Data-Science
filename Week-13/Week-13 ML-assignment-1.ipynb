{
 "cells": [
  {
   "cell_type": "markdown",
   "metadata": {},
   "source": [
    "***Q1.***  Explain the following with an example\n",
    "1) Artificial Intelligence\n",
    "2) Machine Learnin,\n",
    "3) Deep Learning"
   ]
  },
  {
   "cell_type": "markdown",
   "metadata": {},
   "source": [
    "1. Artifical Intelligence :- Artificial Intelligence refers to the simulation of human intelligence in machines that are programmed to think, learn, and problem-solve like a human.\n",
    "Ex:- Virtual Assistants like google assistant,amazon's alexa\n",
    "\n",
    "2. Machine Learning :- Machine Learning is a subset of artificial intelligence that involves training algorithms to recognize patterns in data and make predictions or decisions based on that data. \n",
    "Ex:- Email spam filtering,Bad comment filter,etc\n",
    "\n",
    "3. Deep Learning :- Deep Learning is a subset of machine learning that involves neural networks with many layers (hence, \"deep\"). Deep learning algorithms can learn and make intelligent decisions on their own by processing large amounts of complex data. It is particularly useful for tasks like image and speech recognition.\n",
    "Ex:- image recognition"
   ]
  },
  {
   "cell_type": "markdown",
   "metadata": {},
   "source": [
    "***Q2.*** What is supervised Learning? List some examples of supervised learning."
   ]
  },
  {
   "cell_type": "markdown",
   "metadata": {},
   "source": [
    "It is a type of learning where the machine knows the output feature of the dataset.\n",
    "Examples :- by taking in consideration of playing and studying time of a student machine can tell whether he is fail or pass."
   ]
  },
  {
   "cell_type": "markdown",
   "metadata": {},
   "source": [
    "***Q3.*** What is unsupervised Learning? List some examples of unsupervised learning."
   ]
  },
  {
   "cell_type": "markdown",
   "metadata": {},
   "source": [
    "It is a type of learning which focuses on making clusturs.\n",
    "Ex:- customer segmentation."
   ]
  },
  {
   "cell_type": "markdown",
   "metadata": {},
   "source": [
    "***Q4.*** What is difference between AI,ML,DL and DS?"
   ]
  },
  {
   "cell_type": "markdown",
   "metadata": {},
   "source": [
    " AI refers to the simulation of human intelligence in machines.ML is a subset of AI, where algorithms learn patterns from data to make predictions or decisions.DL is a subset of ML that uses neural networks with many layers to process complex data.DS involves extracting insights and knowledge from structured and unstructured data."
   ]
  },
  {
   "cell_type": "markdown",
   "metadata": {},
   "source": [
    "***Q5.*** What are the main difference between supervised ,unsupervised and semi-supervised learning?"
   ]
  },
  {
   "cell_type": "markdown",
   "metadata": {},
   "source": [
    "In supervised learning the machine knows about the ouput feature of dataset.while non supervised learning focuses on making clusters.Ans Semi-supervised learning is combination of both supervised and non-supervised learning."
   ]
  },
  {
   "cell_type": "markdown",
   "metadata": {},
   "source": [
    "***Q6.*** What is train,test and validation split? Explain the importance of each term."
   ]
  },
  {
   "cell_type": "markdown",
   "metadata": {},
   "source": [
    "Train :- it is the subset of dataset used to train the model.\n",
    "Test :- It is used to evaluate the model's performance after it has been trained and tuned. \n",
    "Validation :- it is the subset of dataset used to tune the hyperparameters of model."
   ]
  },
  {
   "cell_type": "markdown",
   "metadata": {},
   "source": [
    "***Q7.*** How can unsupervised learning be used in anomaly detection?"
   ]
  },
  {
   "cell_type": "markdown",
   "metadata": {},
   "source": [
    "Unsupervised learning techniques, such as clustering and autoencoders, can detect anomalies by identifying patterns in data that deviate significantly from the norm. Algorithms like K-means, DBSCAN, and Isolation Forest are commonly used for this purpose, even when labeled anomaly data is limited or unavailable."
   ]
  },
  {
   "cell_type": "markdown",
   "metadata": {},
   "source": [
    "***Q8.*** List down some commonly used supervised learning algorithms nad unsupervised learning algorithms."
   ]
  },
  {
   "cell_type": "markdown",
   "metadata": {},
   "source": [
    "***Supervised Learning***\n",
    "1. Linear Regression\n",
    "2. Logistic Regression\n",
    "3. Decision Tree\n",
    "4. Random Forest\n",
    "5. Naive Bayes\n",
    "\n",
    "***Unsupervised learning***\n",
    "1. K-means Clustering\n",
    "2. Hierarchical Clustering\n",
    "3. Autoencoders"
   ]
  },
  {
   "cell_type": "markdown",
   "metadata": {},
   "source": []
  }
 ],
 "metadata": {
  "language_info": {
   "name": "python"
  },
  "orig_nbformat": 4
 },
 "nbformat": 4,
 "nbformat_minor": 2
}
